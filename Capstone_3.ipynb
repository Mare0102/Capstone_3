{
 "cells": [
  {
   "cell_type": "markdown",
   "metadata": {},
   "source": [
    "# Bank Marketing Campaign Dataset"
   ]
  },
  {
   "cell_type": "markdown",
   "metadata": {},
   "source": [
    "## Business Problem Understanding\n"
   ]
  },
  {
   "cell_type": "markdown",
   "metadata": {},
   "source": [
    "**Context**\n",
    "\n",
    "Data yang digunakan adalah data marketing campaign dari sebuah bank. Dimana data ini akan dianalisa dan digunakan untuk memprediksi apakah seorang customer akan melakukan deposit dibank tersebut berdasarkan dari data yang sudah didapatkan.\n",
    "\n",
    "Deposit:\n",
    "\n",
    "Yes (1) : melakukan deposit\n",
    "\n",
    "No (0)  : tidak melakukan deposit"
   ]
  },
  {
   "cell_type": "markdown",
   "metadata": {},
   "source": [
    "**Problem Statement**\n",
    "\n",
    "Proses marketing campaign biasanya memakan waktu dan biaya yang tidak sedikit. Perusahaan ingin meningkatkan efisiensi marketing campaign dengan menentukan customer mana yang mempunyai probabilitas tertinggi untuk membuka deposit.\n",
    "\n",
    "Deposito: Uang yang disimpan dalam rekening yang pada jangka waktu tertentu uang tersebut tidak boleh ditarik nasabah, dan hanya bisa dicairkan pada tanggal jatuh temponya.\n",
    "https://id.wikipedia.org/wiki/Deposito\n",
    "\n",
    "\n",
    "**Goals**\n",
    "\n",
    "Berdasarkan permasalahan tersebut, perusahaan ingin memiliki pemahaman lebih dari data customer mereka untuk bisa memprediksi kemungkinan seorang customer akan membuka deposit atau tidak.\n",
    "\n",
    "Perusahaan juga ingin mengetahui faktor apa yang membuat seorang customer mau membuka deposit, sehingga perusahaan dapat membuat marketing campaign yang lebih efisien dalam mendekati customer potensial, dan mengurangi biaya berlebih dalam approach ke calon customer yang ternyata tidak berpotensi membuka deposit.\n",
    "\n",
    "**Analytic Approach**\n",
    "\n",
    "Pada kasus ini kita akan melakukan analisis data untuk menentukan pola yang membedakan customer yang akan membuka deposit dan yang tidak akan membuka deposit.\n",
    "\n",
    "Kemudian kita akan membangun model klasifikasi yang akan membantu perusahaan untuk dapat memprediksi probabilitas pembukaan deposit oleh customer.\n"
   ]
  },
  {
   "cell_type": "markdown",
   "metadata": {},
   "source": [
    "**Metric Evaluation**"
   ]
  },
  {
   "cell_type": "markdown",
   "metadata": {},
   "source": [
    "<img src=https://pbs.twimg.com/media/FD2hTDOX0AIdRti.jpg>\n",
    "<img src=https://miro.medium.com/max/1248/1*vvYZCYycclL6Uozytl9T_A.png>"
   ]
  },
  {
   "cell_type": "markdown",
   "metadata": {},
   "source": [
    "Type 1 Error : False Positive </br>\n",
    "Konsekuensi  : Terbuangnya waktu dan biaya campaign tanpa adanya pembukaan deposit\n",
    "\n",
    "Type 2 Error : False Negative </br>\n",
    "Konsekuensi  : Kehilangan calon customer yang potensial\n",
    "\n",
    "Berdasarkan konsekuensinya, maka sebisa mungkin kita membuat model yang mengurangi waktu dan biaya dalam campaign, tanpa membuat kurangnya calon customer potensial. Jadi kita harus antara nilai True Positive dan False Positive. Oleh karena itu kita akan menggunakan **roc_auc** sebagai metric utama. "
   ]
  },
  {
   "cell_type": "markdown",
   "metadata": {},
   "source": [
    "## Data Understanding"
   ]
  },
  {
   "cell_type": "markdown",
   "metadata": {},
   "source": [
    "Dataset source : https://archive.ics.uci.edu/ml/datasets/bank+marketing\n",
    "\n",
    "Moro et al., 2014] S. Moro, P. Cortez and P. Rita. A Data-Driven Approach to Predict the Success of Bank Telemarketing. Decision Support Systems, Elsevier, 62:22-31, June 2014"
   ]
  },
  {
   "cell_type": "markdown",
   "metadata": {},
   "source": [
    "Note:\n",
    "\n",
    "- Data sedikit tidak balance (48:52)\n",
    "- Kebanyakan datanya berbentuk kategorikal\n",
    "- Setiap baris menggambarkan data customer yang sudah pernah diapproach dan hasilnya"
   ]
  },
  {
   "cell_type": "markdown",
   "metadata": {},
   "source": [
    "### Attribute Information\n",
    "\n",
    "| No. | Attribute | Data Type | About | Description |\n",
    "| -- | -- | -- | -- | -- |\n",
    "| 1. | Age | int64 | Client | Client's Age |\n",
    "| 2. | Job | object | Client | Type of job (admin, blue-collar, entrepreneur, housemaid, management, retired, self-employed, sevices, student, technician, unemployed, unknown) |\n",
    "| 3. | Balance | int64 | Client | Client's Balance |\n",
    "| 4. | Housing | object | Client | Has housing loan (Yes, No) |\n",
    "| 5. | Loan | object | Client | Has personal loan (Yes, No) |\n",
    "| 6. | Contact | object | Current Campaign | Communication Type (cellular, telephone) |\n",
    "| 7. | Month | object | Current Campaign | Last contact month of the year |\n",
    "| 8. | Campaign | int64 | Current Campaign | Number of contacts performed during this campaign and for the client |\n",
    "| 9. | Pdays | int64 | Previous Campaign | Number of days that passed after the client was last contacted from a previous campaign (999 means client was not previously contacted) |\n",
    "| 10. | Poutcome | object | Previous Campaign | Outcome of the previous marketing campaign (failure, nonexistent, success) |\n",
    "| 11. | Deposit | object | Current Campaign | Has the client subscribed a term deposit? (Yes, No) |"
   ]
  },
  {
   "cell_type": "markdown",
   "metadata": {},
   "source": [
    "### Libraries"
   ]
  },
  {
   "cell_type": "code",
   "execution_count": 1,
   "metadata": {},
   "outputs": [],
   "source": [
    "import pandas as pd\n",
    "import numpy as np\n",
    "\n",
    "# Visualization\n",
    "import matplotlib.pyplot as plt\n",
    "import seaborn as sns\n",
    "\n",
    "# Feature Engineering\n",
    "from sklearn.compose import ColumnTransformer\n",
    "from sklearn.preprocessing import OneHotEncoder, StandardScaler\n",
    "import category_encoders as ce\n",
    "\n",
    "# Model Selection\n",
    "from sklearn.model_selection import train_test_split, cross_val_score, StratifiedKFold, RandomizedSearchCV\n",
    "from sklearn.neighbors import KNeighborsClassifier\n",
    "from sklearn.linear_model import LogisticRegression\n",
    "from sklearn.tree import DecisionTreeClassifier\n",
    "from sklearn.ensemble import RandomForestClassifier\n",
    "from xgboost import XGBClassifier\n",
    "from sklearn.pipeline import Pipeline\n",
    "\n",
    "# Metrics\n",
    "from sklearn.metrics import roc_auc_score, classification_report, confusion_matrix, roc_curve"
   ]
  },
  {
   "cell_type": "markdown",
   "metadata": {},
   "source": [
    "## Exploratory Data Analysis (EDA)"
   ]
  },
  {
   "cell_type": "markdown",
   "metadata": {},
   "source": [
    "### Load Dataset"
   ]
  },
  {
   "cell_type": "code",
   "execution_count": 2,
   "metadata": {},
   "outputs": [
    {
     "data": {
      "text/html": [
       "<div>\n",
       "<style scoped>\n",
       "    .dataframe tbody tr th:only-of-type {\n",
       "        vertical-align: middle;\n",
       "    }\n",
       "\n",
       "    .dataframe tbody tr th {\n",
       "        vertical-align: top;\n",
       "    }\n",
       "\n",
       "    .dataframe thead th {\n",
       "        text-align: right;\n",
       "    }\n",
       "</style>\n",
       "<table border=\"1\" class=\"dataframe\">\n",
       "  <thead>\n",
       "    <tr style=\"text-align: right;\">\n",
       "      <th></th>\n",
       "      <th>age</th>\n",
       "      <th>job</th>\n",
       "      <th>balance</th>\n",
       "      <th>housing</th>\n",
       "      <th>loan</th>\n",
       "      <th>contact</th>\n",
       "      <th>month</th>\n",
       "      <th>campaign</th>\n",
       "      <th>pdays</th>\n",
       "      <th>poutcome</th>\n",
       "      <th>deposit</th>\n",
       "    </tr>\n",
       "  </thead>\n",
       "  <tbody>\n",
       "    <tr>\n",
       "      <th>0</th>\n",
       "      <td>55</td>\n",
       "      <td>admin.</td>\n",
       "      <td>1662</td>\n",
       "      <td>no</td>\n",
       "      <td>no</td>\n",
       "      <td>cellular</td>\n",
       "      <td>jun</td>\n",
       "      <td>2</td>\n",
       "      <td>-1</td>\n",
       "      <td>unknown</td>\n",
       "      <td>yes</td>\n",
       "    </tr>\n",
       "    <tr>\n",
       "      <th>1</th>\n",
       "      <td>39</td>\n",
       "      <td>self-employed</td>\n",
       "      <td>-3058</td>\n",
       "      <td>yes</td>\n",
       "      <td>yes</td>\n",
       "      <td>cellular</td>\n",
       "      <td>apr</td>\n",
       "      <td>3</td>\n",
       "      <td>-1</td>\n",
       "      <td>unknown</td>\n",
       "      <td>yes</td>\n",
       "    </tr>\n",
       "    <tr>\n",
       "      <th>2</th>\n",
       "      <td>51</td>\n",
       "      <td>admin.</td>\n",
       "      <td>3025</td>\n",
       "      <td>no</td>\n",
       "      <td>no</td>\n",
       "      <td>cellular</td>\n",
       "      <td>may</td>\n",
       "      <td>1</td>\n",
       "      <td>352</td>\n",
       "      <td>other</td>\n",
       "      <td>yes</td>\n",
       "    </tr>\n",
       "    <tr>\n",
       "      <th>3</th>\n",
       "      <td>38</td>\n",
       "      <td>services</td>\n",
       "      <td>-87</td>\n",
       "      <td>yes</td>\n",
       "      <td>no</td>\n",
       "      <td>cellular</td>\n",
       "      <td>may</td>\n",
       "      <td>1</td>\n",
       "      <td>-1</td>\n",
       "      <td>unknown</td>\n",
       "      <td>no</td>\n",
       "    </tr>\n",
       "    <tr>\n",
       "      <th>4</th>\n",
       "      <td>36</td>\n",
       "      <td>housemaid</td>\n",
       "      <td>205</td>\n",
       "      <td>yes</td>\n",
       "      <td>no</td>\n",
       "      <td>telephone</td>\n",
       "      <td>nov</td>\n",
       "      <td>4</td>\n",
       "      <td>-1</td>\n",
       "      <td>unknown</td>\n",
       "      <td>no</td>\n",
       "    </tr>\n",
       "  </tbody>\n",
       "</table>\n",
       "</div>"
      ],
      "text/plain": [
       "   age            job  balance housing loan    contact month  campaign  pdays  \\\n",
       "0   55         admin.     1662      no   no   cellular   jun         2     -1   \n",
       "1   39  self-employed    -3058     yes  yes   cellular   apr         3     -1   \n",
       "2   51         admin.     3025      no   no   cellular   may         1    352   \n",
       "3   38       services      -87     yes   no   cellular   may         1     -1   \n",
       "4   36      housemaid      205     yes   no  telephone   nov         4     -1   \n",
       "\n",
       "  poutcome deposit  \n",
       "0  unknown     yes  \n",
       "1  unknown     yes  \n",
       "2    other     yes  \n",
       "3  unknown      no  \n",
       "4  unknown      no  "
      ]
     },
     "execution_count": 2,
     "metadata": {},
     "output_type": "execute_result"
    }
   ],
   "source": [
    "df = pd.read_csv('data_bank_marketing_campaign.csv')\n",
    "\n",
    "df.head()"
   ]
  },
  {
   "cell_type": "markdown",
   "metadata": {},
   "source": [
    "### Dataset Info\n"
   ]
  },
  {
   "cell_type": "code",
   "execution_count": 3,
   "metadata": {},
   "outputs": [
    {
     "name": "stdout",
     "output_type": "stream",
     "text": [
      "<class 'pandas.core.frame.DataFrame'>\n",
      "RangeIndex: 7813 entries, 0 to 7812\n",
      "Data columns (total 11 columns):\n",
      " #   Column    Non-Null Count  Dtype \n",
      "---  ------    --------------  ----- \n",
      " 0   age       7813 non-null   int64 \n",
      " 1   job       7813 non-null   object\n",
      " 2   balance   7813 non-null   int64 \n",
      " 3   housing   7813 non-null   object\n",
      " 4   loan      7813 non-null   object\n",
      " 5   contact   7813 non-null   object\n",
      " 6   month     7813 non-null   object\n",
      " 7   campaign  7813 non-null   int64 \n",
      " 8   pdays     7813 non-null   int64 \n",
      " 9   poutcome  7813 non-null   object\n",
      " 10  deposit   7813 non-null   object\n",
      "dtypes: int64(4), object(7)\n",
      "memory usage: 671.6+ KB\n"
     ]
    }
   ],
   "source": [
    "df.info()"
   ]
  },
  {
   "cell_type": "markdown",
   "metadata": {},
   "source": [
    "Terdapat 7813 baris data pada dataset ini, dimana kebanyakan adalah data kategorikal."
   ]
  },
  {
   "cell_type": "markdown",
   "metadata": {},
   "source": [
    "### Missing Values"
   ]
  },
  {
   "cell_type": "code",
   "execution_count": 4,
   "metadata": {},
   "outputs": [
    {
     "data": {
      "text/plain": [
       "age         0\n",
       "job         0\n",
       "balance     0\n",
       "housing     0\n",
       "loan        0\n",
       "contact     0\n",
       "month       0\n",
       "campaign    0\n",
       "pdays       0\n",
       "poutcome    0\n",
       "deposit     0\n",
       "dtype: int64"
      ]
     },
     "execution_count": 4,
     "metadata": {},
     "output_type": "execute_result"
    }
   ],
   "source": [
    "df.isna().sum()"
   ]
  },
  {
   "cell_type": "markdown",
   "metadata": {},
   "source": [
    "Tidak ada missing value didalam dataset ini."
   ]
  },
  {
   "cell_type": "markdown",
   "metadata": {},
   "source": [
    "### Features Information"
   ]
  },
  {
   "cell_type": "code",
   "execution_count": 5,
   "metadata": {},
   "outputs": [
    {
     "data": {
      "text/html": [
       "<div>\n",
       "<style scoped>\n",
       "    .dataframe tbody tr th:only-of-type {\n",
       "        vertical-align: middle;\n",
       "    }\n",
       "\n",
       "    .dataframe tbody tr th {\n",
       "        vertical-align: top;\n",
       "    }\n",
       "\n",
       "    .dataframe thead th {\n",
       "        text-align: right;\n",
       "    }\n",
       "</style>\n",
       "<table border=\"1\" class=\"dataframe\">\n",
       "  <thead>\n",
       "    <tr style=\"text-align: right;\">\n",
       "      <th></th>\n",
       "      <th>Features</th>\n",
       "      <th>Type</th>\n",
       "      <th>Unique</th>\n",
       "      <th>Unique Sample</th>\n",
       "    </tr>\n",
       "  </thead>\n",
       "  <tbody>\n",
       "    <tr>\n",
       "      <th>0</th>\n",
       "      <td>age</td>\n",
       "      <td>int64</td>\n",
       "      <td>75</td>\n",
       "      <td>[56, 32]</td>\n",
       "    </tr>\n",
       "    <tr>\n",
       "      <th>1</th>\n",
       "      <td>job</td>\n",
       "      <td>object</td>\n",
       "      <td>12</td>\n",
       "      <td>[blue-collar, housemaid]</td>\n",
       "    </tr>\n",
       "    <tr>\n",
       "      <th>2</th>\n",
       "      <td>balance</td>\n",
       "      <td>int64</td>\n",
       "      <td>3153</td>\n",
       "      <td>[545, 1730]</td>\n",
       "    </tr>\n",
       "    <tr>\n",
       "      <th>3</th>\n",
       "      <td>housing</td>\n",
       "      <td>object</td>\n",
       "      <td>2</td>\n",
       "      <td>[no, yes]</td>\n",
       "    </tr>\n",
       "    <tr>\n",
       "      <th>4</th>\n",
       "      <td>loan</td>\n",
       "      <td>object</td>\n",
       "      <td>2</td>\n",
       "      <td>[no, yes]</td>\n",
       "    </tr>\n",
       "    <tr>\n",
       "      <th>5</th>\n",
       "      <td>contact</td>\n",
       "      <td>object</td>\n",
       "      <td>3</td>\n",
       "      <td>[unknown, telephone]</td>\n",
       "    </tr>\n",
       "    <tr>\n",
       "      <th>6</th>\n",
       "      <td>month</td>\n",
       "      <td>object</td>\n",
       "      <td>12</td>\n",
       "      <td>[jan, apr]</td>\n",
       "    </tr>\n",
       "    <tr>\n",
       "      <th>7</th>\n",
       "      <td>campaign</td>\n",
       "      <td>int64</td>\n",
       "      <td>32</td>\n",
       "      <td>[7, 8]</td>\n",
       "    </tr>\n",
       "    <tr>\n",
       "      <th>8</th>\n",
       "      <td>pdays</td>\n",
       "      <td>int64</td>\n",
       "      <td>422</td>\n",
       "      <td>[412, 439]</td>\n",
       "    </tr>\n",
       "    <tr>\n",
       "      <th>9</th>\n",
       "      <td>poutcome</td>\n",
       "      <td>object</td>\n",
       "      <td>4</td>\n",
       "      <td>[success, other]</td>\n",
       "    </tr>\n",
       "    <tr>\n",
       "      <th>10</th>\n",
       "      <td>deposit</td>\n",
       "      <td>object</td>\n",
       "      <td>2</td>\n",
       "      <td>[no, yes]</td>\n",
       "    </tr>\n",
       "  </tbody>\n",
       "</table>\n",
       "</div>"
      ],
      "text/plain": [
       "    Features    Type  Unique             Unique Sample\n",
       "0        age   int64      75                  [56, 32]\n",
       "1        job  object      12  [blue-collar, housemaid]\n",
       "2    balance   int64    3153               [545, 1730]\n",
       "3    housing  object       2                 [no, yes]\n",
       "4       loan  object       2                 [no, yes]\n",
       "5    contact  object       3      [unknown, telephone]\n",
       "6      month  object      12                [jan, apr]\n",
       "7   campaign   int64      32                    [7, 8]\n",
       "8      pdays   int64     422                [412, 439]\n",
       "9   poutcome  object       4          [success, other]\n",
       "10   deposit  object       2                 [no, yes]"
      ]
     },
     "execution_count": 5,
     "metadata": {},
     "output_type": "execute_result"
    }
   ],
   "source": [
    "list1 = []\n",
    "for col in df.columns :\n",
    "    list1.append([col, df[col].dtype, df[col].nunique(), list(df[col].drop_duplicates().sample(2).values)])\n",
    "\n",
    "dfInfo = pd.DataFrame(columns=['Features', 'Type', 'Unique', 'Unique Sample'], data=list1)\n",
    "dfInfo"
   ]
  },
  {
   "cell_type": "markdown",
   "metadata": {},
   "source": [
    "#### Categorical Features Subplots"
   ]
  },
  {
   "cell_type": "code",
   "execution_count": 6,
   "metadata": {},
   "outputs": [
    {
     "data": {
      "text/plain": [
       "['job', 'housing', 'loan', 'contact', 'month', 'poutcome']"
      ]
     },
     "execution_count": 6,
     "metadata": {},
     "output_type": "execute_result"
    }
   ],
   "source": [
    "# Buat variabel yang yang berisikan data tipe object\n",
    "categorical_features =df.select_dtypes(include='object').drop(columns='deposit').columns.tolist()\n",
    "categorical_features"
   ]
  },
  {
   "cell_type": "code",
   "execution_count": 7,
   "metadata": {},
   "outputs": [
    {
     "data": {
      "image/png": "[encoded data removed]",
      "text/plain": [
       "<Figure size 1800x1440 with 6 Axes>"
      ]
     },
     "metadata": {
      "needs_background": "light"
     },
     "output_type": "display_data"
    }
   ],
   "source": [
    "fig, ax = plt.subplots(nrows=3, ncols=2, figsize=(25,20))\n",
    "\n",
    "for i in range(3):\n",
    "    for j in range(2):\n",
    "        sns.countplot(x=categorical_features[2*i+j], data=df, palette='mako',hue ='deposit', ax=ax[i,j])\n",
    "\n",
    "\n"
   ]
  },
  {
   "cell_type": "markdown",
   "metadata": {},
   "source": [
    "#### Numerical Features Subplots"
   ]
  },
  {
   "cell_type": "code",
   "execution_count": 8,
   "metadata": {},
   "outputs": [
    {
     "data": {
      "text/plain": [
       "['age', 'balance', 'campaign', 'pdays']"
      ]
     },
     "execution_count": 8,
     "metadata": {},
     "output_type": "execute_result"
    }
   ],
   "source": [
    "# Kita buat dulu variabel yang berisikan tipe numerikal\n",
    "numerical_features = df.select_dtypes(exclude='object').columns.tolist()\n",
    "numerical_features"
   ]
  },
  {
   "cell_type": "code",
   "execution_count": 9,
   "metadata": {},
   "outputs": [
    {
     "data": {
      "image/png": "[encoded data removed]",
      "text/plain": [
       "<Figure size 1800x720 with 4 Axes>"
      ]
     },
     "metadata": {
      "needs_background": "light"
     },
     "output_type": "display_data"
    }
   ],
   "source": [
    "fig, ax = plt.subplots(nrows=2, ncols=2, figsize=(25,10))\n",
    "\n",
    "for i in range(2):\n",
    "    for j in range(2):\n",
    "        sns.kdeplot(x=numerical_features[2*i+j], data=df, hue='deposit', palette='mako', fill=True,  ax=ax[i,j])"
   ]
  },
  {
   "cell_type": "markdown",
   "metadata": {},
   "source": [
    "Dari subplots features diatas terlihat bahwa variabel yang mempunyai persebaran data yang banyak dan berpeluang memberikan insight lebih adalah feature job, month, dan age. Oleh sebab itu kita akan fokus dalam mendalami ketiga feature tersebut."
   ]
  },
  {
   "cell_type": "markdown",
   "metadata": {},
   "source": [
    "### Campaign Efficiency Analysis Based on Job, Month, Age, and Balance\n",
    "\n",
    "Disini kita ingin mengetahui apakah ada pola tertentu antara Job, Month, Age dan Balance dengan Contact sambil melihat pengaruhnya ke Deposit. Features yang dipilih adalah Job, Month, Age dan Balance karena feature tersebut pasti diketahui sebelum kita melakukan campaign kepada calon customer tersebut dan juga memiliki persebaran angka yang luas, sehingga kita ingin mengetahui apakah ada beberapa variabel tertentu yang memiliki pengaruh lebih tinggi dengan metode contact tertentu dan melihat pengaruhnya terhadap target feature (deposit).\n",
    "\n",
    "Hasil dari analisa ini diharapkan bisa membantu tim marketing untuk bisa lebih efisien dalam melakukan contact ke grup consumer tertentu pada bulan tertentu."
   ]
  },
  {
   "cell_type": "markdown",
   "metadata": {},
   "source": [
    "#### Job\n",
    "\n",
    "Pada analisa feature job, kita tidak akan menganalisa dengan contact tetapi hanya akan melihat menurut deposit rate. Dimana nantinya akan ada jon tertentu yang memiliki peluang lebih tinggi untuk deposit dibandingkan dengan job lain."
   ]
  },
  {
   "cell_type": "code",
   "execution_count": 10,
   "metadata": {},
   "outputs": [
    {
     "data": {
      "text/html": [
       "<div>\n",
       "<style scoped>\n",
       "    .dataframe tbody tr th:only-of-type {\n",
       "        vertical-align: middle;\n",
       "    }\n",
       "\n",
       "    .dataframe tbody tr th {\n",
       "        vertical-align: top;\n",
       "    }\n",
       "\n",
       "    .dataframe thead th {\n",
       "        text-align: right;\n",
       "    }\n",
       "</style>\n",
       "<table border=\"1\" class=\"dataframe\">\n",
       "  <thead>\n",
       "    <tr style=\"text-align: right;\">\n",
       "      <th>deposit</th>\n",
       "      <th>no</th>\n",
       "      <th>yes</th>\n",
       "    </tr>\n",
       "    <tr>\n",
       "      <th>job</th>\n",
       "      <th></th>\n",
       "      <th></th>\n",
       "    </tr>\n",
       "  </thead>\n",
       "  <tbody>\n",
       "    <tr>\n",
       "      <th>admin.</th>\n",
       "      <td>52.564103</td>\n",
       "      <td>47.435897</td>\n",
       "    </tr>\n",
       "    <tr>\n",
       "      <th>blue-collar</th>\n",
       "      <td>62.555721</td>\n",
       "      <td>37.444279</td>\n",
       "    </tr>\n",
       "    <tr>\n",
       "      <th>entrepreneur</th>\n",
       "      <td>60.169492</td>\n",
       "      <td>39.830508</td>\n",
       "    </tr>\n",
       "    <tr>\n",
       "      <th>housemaid</th>\n",
       "      <td>60.869565</td>\n",
       "      <td>39.130435</td>\n",
       "    </tr>\n",
       "    <tr>\n",
       "      <th>management</th>\n",
       "      <td>48.995536</td>\n",
       "      <td>51.004464</td>\n",
       "    </tr>\n",
       "    <tr>\n",
       "      <th>retired</th>\n",
       "      <td>32.407407</td>\n",
       "      <td>67.592593</td>\n",
       "    </tr>\n",
       "    <tr>\n",
       "      <th>self-employed</th>\n",
       "      <td>54.642857</td>\n",
       "      <td>45.357143</td>\n",
       "    </tr>\n",
       "    <tr>\n",
       "      <th>services</th>\n",
       "      <td>60.486322</td>\n",
       "      <td>39.513678</td>\n",
       "    </tr>\n",
       "    <tr>\n",
       "      <th>student</th>\n",
       "      <td>25.506073</td>\n",
       "      <td>74.493927</td>\n",
       "    </tr>\n",
       "    <tr>\n",
       "      <th>technician</th>\n",
       "      <td>53.911696</td>\n",
       "      <td>46.088304</td>\n",
       "    </tr>\n",
       "    <tr>\n",
       "      <th>unemployed</th>\n",
       "      <td>40.963855</td>\n",
       "      <td>59.036145</td>\n",
       "    </tr>\n",
       "    <tr>\n",
       "      <th>unknown</th>\n",
       "      <td>51.851852</td>\n",
       "      <td>48.148148</td>\n",
       "    </tr>\n",
       "  </tbody>\n",
       "</table>\n",
       "</div>"
      ],
      "text/plain": [
       "deposit               no        yes\n",
       "job                                \n",
       "admin.         52.564103  47.435897\n",
       "blue-collar    62.555721  37.444279\n",
       "entrepreneur   60.169492  39.830508\n",
       "housemaid      60.869565  39.130435\n",
       "management     48.995536  51.004464\n",
       "retired        32.407407  67.592593\n",
       "self-employed  54.642857  45.357143\n",
       "services       60.486322  39.513678\n",
       "student        25.506073  74.493927\n",
       "technician     53.911696  46.088304\n",
       "unemployed     40.963855  59.036145\n",
       "unknown        51.851852  48.148148"
      ]
     },
     "execution_count": 10,
     "metadata": {},
     "output_type": "execute_result"
    }
   ],
   "source": [
    "# Hitung persentase deposit menurut pekerjaan\n",
    "deposit_job_pct = pd.crosstab(df['deposit'], df['job']).apply(lambda x:x/x.sum()*100)\n",
    "# Perhitungan di crosstab dibuat kesamping, agar proporsi perhitungan persentase sesuai dengan deposit (yes/no), bukan menurut pekerjaannya\n",
    "\n",
    "# Kita akan transpose agar hasilnya berurut kebawah\n",
    "deposit_job_pct = deposit_job_pct.transpose()\n",
    "\n",
    "deposit_job_pct\n"
   ]
  },
  {
   "cell_type": "code",
   "execution_count": 11,
   "metadata": {},
   "outputs": [
    {
     "data": {
      "image/png": "[encoded data removed]",
      "text/plain": [
       "<Figure size 720x360 with 1 Axes>"
      ]
     },
     "metadata": {
      "needs_background": "light"
     },
     "output_type": "display_data"
    }
   ],
   "source": [
    "# Kita buat plot hanya yang melakukan deposit saja\n",
    "deposit_job_yes = deposit_job_pct['yes'].sort_values(ascending=True).plot(kind='barh', figsize=(10,5))\n",
    "\n",
    "plt.title('Deposit Rate by Job')\n",
    "plt.xlabel('Deposit Rate')\n",
    "plt.ylabel('Job')\n",
    "\n",
    "plt.show()"
   ]
  },
  {
   "cell_type": "markdown",
   "metadata": {},
   "source": [
    "**Insight**\n",
    "\n",
    "Terlihat dari horizontal bar chart, bahwa student, retired, unemployed, dan management memiliki peluang deposit rate diatas 50. Berikutnya kita akan analisa berdasarkan month."
   ]
  },
  {
   "cell_type": "markdown",
   "metadata": {},
   "source": [
    "#### Month\n",
    "\n",
    "Disini kita akan menganalisa berdasarkan bulan dilakukannya contact dan dibulan mana yang memiliki deposit rate tertinggi. Analisa ini dilakukan agar kita bisa melihat bulan-bulan mana yang memiliki efisiensi tertinggi untuk menjalankan campaign."
   ]
  },
  {
   "cell_type": "code",
   "execution_count": 12,
   "metadata": {},
   "outputs": [
    {
     "data": {
      "text/html": [
       "<div>\n",
       "<style scoped>\n",
       "    .dataframe tbody tr th:only-of-type {\n",
       "        vertical-align: middle;\n",
       "    }\n",
       "\n",
       "    .dataframe tbody tr th {\n",
       "        vertical-align: top;\n",
       "    }\n",
       "\n",
       "    .dataframe thead th {\n",
       "        text-align: right;\n",
       "    }\n",
       "</style>\n",
       "<table border=\"1\" class=\"dataframe\">\n",
       "  <thead>\n",
       "    <tr style=\"text-align: right;\">\n",
       "      <th></th>\n",
       "      <th>age</th>\n",
       "      <th>job</th>\n",
       "      <th>balance</th>\n",
       "      <th>housing</th>\n",
       "      <th>loan</th>\n",
       "      <th>contact</th>\n",
       "      <th>month</th>\n",
       "      <th>campaign</th>\n",
       "      <th>pdays</th>\n",
       "      <th>poutcome</th>\n",
       "      <th>deposit</th>\n",
       "      <th>month_int</th>\n",
       "    </tr>\n",
       "  </thead>\n",
       "  <tbody>\n",
       "    <tr>\n",
       "      <th>0</th>\n",
       "      <td>55</td>\n",
       "      <td>admin.</td>\n",
       "      <td>1662</td>\n",
       "      <td>no</td>\n",
       "      <td>no</td>\n",
       "      <td>cellular</td>\n",
       "      <td>jun</td>\n",
       "      <td>2</td>\n",
       "      <td>-1</td>\n",
       "      <td>unknown</td>\n",
       "      <td>yes</td>\n",
       "      <td>6.0</td>\n",
       "    </tr>\n",
       "    <tr>\n",
       "      <th>1</th>\n",
       "      <td>39</td>\n",
       "      <td>self-employed</td>\n",
       "      <td>-3058</td>\n",
       "      <td>yes</td>\n",
       "      <td>yes</td>\n",
       "      <td>cellular</td>\n",
       "      <td>apr</td>\n",
       "      <td>3</td>\n",
       "      <td>-1</td>\n",
       "      <td>unknown</td>\n",
       "      <td>yes</td>\n",
       "      <td>4.0</td>\n",
       "    </tr>\n",
       "    <tr>\n",
       "      <th>2</th>\n",
       "      <td>51</td>\n",
       "      <td>admin.</td>\n",
       "      <td>3025</td>\n",
       "      <td>no</td>\n",
       "      <td>no</td>\n",
       "      <td>cellular</td>\n",
       "      <td>may</td>\n",
       "      <td>1</td>\n",
       "      <td>352</td>\n",
       "      <td>other</td>\n",
       "      <td>yes</td>\n",
       "      <td>5.0</td>\n",
       "    </tr>\n",
       "    <tr>\n",
       "      <th>3</th>\n",
       "      <td>38</td>\n",
       "      <td>services</td>\n",
       "      <td>-87</td>\n",
       "      <td>yes</td>\n",
       "      <td>no</td>\n",
       "      <td>cellular</td>\n",
       "      <td>may</td>\n",
       "      <td>1</td>\n",
       "      <td>-1</td>\n",
       "      <td>unknown</td>\n",
       "      <td>no</td>\n",
       "      <td>5.0</td>\n",
       "    </tr>\n",
       "    <tr>\n",
       "      <th>4</th>\n",
       "      <td>36</td>\n",
       "      <td>housemaid</td>\n",
       "      <td>205</td>\n",
       "      <td>yes</td>\n",
       "      <td>no</td>\n",
       "      <td>telephone</td>\n",
       "      <td>nov</td>\n",
       "      <td>4</td>\n",
       "      <td>-1</td>\n",
       "      <td>unknown</td>\n",
       "      <td>no</td>\n",
       "      <td>11.0</td>\n",
       "    </tr>\n",
       "    <tr>\n",
       "      <th>...</th>\n",
       "      <td>...</td>\n",
       "      <td>...</td>\n",
       "      <td>...</td>\n",
       "      <td>...</td>\n",
       "      <td>...</td>\n",
       "      <td>...</td>\n",
       "      <td>...</td>\n",
       "      <td>...</td>\n",
       "      <td>...</td>\n",
       "      <td>...</td>\n",
       "      <td>...</td>\n",
       "      <td>...</td>\n",
       "    </tr>\n",
       "    <tr>\n",
       "      <th>7808</th>\n",
       "      <td>62</td>\n",
       "      <td>housemaid</td>\n",
       "      <td>2</td>\n",
       "      <td>no</td>\n",
       "      <td>no</td>\n",
       "      <td>cellular</td>\n",
       "      <td>nov</td>\n",
       "      <td>1</td>\n",
       "      <td>-1</td>\n",
       "      <td>unknown</td>\n",
       "      <td>yes</td>\n",
       "      <td>11.0</td>\n",
       "    </tr>\n",
       "    <tr>\n",
       "      <th>7809</th>\n",
       "      <td>48</td>\n",
       "      <td>housemaid</td>\n",
       "      <td>5473</td>\n",
       "      <td>no</td>\n",
       "      <td>no</td>\n",
       "      <td>cellular</td>\n",
       "      <td>feb</td>\n",
       "      <td>2</td>\n",
       "      <td>184</td>\n",
       "      <td>success</td>\n",
       "      <td>yes</td>\n",
       "      <td>2.0</td>\n",
       "    </tr>\n",
       "    <tr>\n",
       "      <th>7810</th>\n",
       "      <td>36</td>\n",
       "      <td>unknown</td>\n",
       "      <td>179</td>\n",
       "      <td>no</td>\n",
       "      <td>no</td>\n",
       "      <td>cellular</td>\n",
       "      <td>aug</td>\n",
       "      <td>8</td>\n",
       "      <td>-1</td>\n",
       "      <td>unknown</td>\n",
       "      <td>no</td>\n",
       "      <td>8.0</td>\n",
       "    </tr>\n",
       "    <tr>\n",
       "      <th>7811</th>\n",
       "      <td>31</td>\n",
       "      <td>admin.</td>\n",
       "      <td>54</td>\n",
       "      <td>yes</td>\n",
       "      <td>no</td>\n",
       "      <td>cellular</td>\n",
       "      <td>nov</td>\n",
       "      <td>1</td>\n",
       "      <td>-1</td>\n",
       "      <td>unknown</td>\n",
       "      <td>no</td>\n",
       "      <td>11.0</td>\n",
       "    </tr>\n",
       "    <tr>\n",
       "      <th>7812</th>\n",
       "      <td>60</td>\n",
       "      <td>retired</td>\n",
       "      <td>1588</td>\n",
       "      <td>no</td>\n",
       "      <td>no</td>\n",
       "      <td>cellular</td>\n",
       "      <td>oct</td>\n",
       "      <td>1</td>\n",
       "      <td>-1</td>\n",
       "      <td>unknown</td>\n",
       "      <td>yes</td>\n",
       "      <td>10.0</td>\n",
       "    </tr>\n",
       "  </tbody>\n",
       "</table>\n",
       "<p>7813 rows × 12 columns</p>\n",
       "</div>"
      ],
      "text/plain": [
       "      age            job  balance housing loan    contact month  campaign  \\\n",
       "0      55         admin.     1662      no   no   cellular   jun         2   \n",
       "1      39  self-employed    -3058     yes  yes   cellular   apr         3   \n",
       "2      51         admin.     3025      no   no   cellular   may         1   \n",
       "3      38       services      -87     yes   no   cellular   may         1   \n",
       "4      36      housemaid      205     yes   no  telephone   nov         4   \n",
       "...   ...            ...      ...     ...  ...        ...   ...       ...   \n",
       "7808   62      housemaid        2      no   no   cellular   nov         1   \n",
       "7809   48      housemaid     5473      no   no   cellular   feb         2   \n",
       "7810   36        unknown      179      no   no   cellular   aug         8   \n",
       "7811   31         admin.       54     yes   no   cellular   nov         1   \n",
       "7812   60        retired     1588      no   no   cellular   oct         1   \n",
       "\n",
       "      pdays poutcome deposit  month_int  \n",
       "0        -1  unknown     yes        6.0  \n",
       "1        -1  unknown     yes        4.0  \n",
       "2       352    other     yes        5.0  \n",
       "3        -1  unknown      no        5.0  \n",
       "4        -1  unknown      no       11.0  \n",
       "...     ...      ...     ...        ...  \n",
       "7808     -1  unknown     yes       11.0  \n",
       "7809    184  success     yes        2.0  \n",
       "7810     -1  unknown      no        8.0  \n",
       "7811     -1  unknown      no       11.0  \n",
       "7812     -1  unknown     yes       10.0  \n",
       "\n",
       "[7813 rows x 12 columns]"
      ]
     },
     "execution_count": 12,
     "metadata": {},
     "output_type": "execute_result"
    }
   ],
   "source": [
    "# Buat dataset baru (agar tidak mengubah dataset awal) dimana kita akan buat kolom baru yang diisi dengan bulan dalam bentuk angka\n",
    "df2 = df.copy()\n",
    "\n",
    "# Buat kolom baru dimana bulan diubah menjadi integer\n",
    "list = [df2]\n",
    "for column in list:\n",
    "    column.loc[column['month']=='jan', 'month_int'] = 1\n",
    "    column.loc[column['month']=='feb', 'month_int'] = 2\n",
    "    column.loc[column['month']=='mar', 'month_int'] = 3\n",
    "    column.loc[column['month']=='apr', 'month_int'] = 4\n",
    "    column.loc[column['month']=='may', 'month_int'] = 5\n",
    "    column.loc[column['month']=='jun', 'month_int'] = 6\n",
    "    column.loc[column['month']=='jul', 'month_int'] = 7\n",
    "    column.loc[column['month']=='aug', 'month_int'] = 8\n",
    "    column.loc[column['month']=='sep', 'month_int'] = 9\n",
    "    column.loc[column['month']=='oct', 'month_int'] = 10\n",
    "    column.loc[column['month']=='nov', 'month_int'] = 11\n",
    "    column.loc[column['month']=='dec', 'month_int'] = 12\n",
    "\n",
    "df2"
   ]
  },
  {
   "cell_type": "code",
   "execution_count": 13,
   "metadata": {},
   "outputs": [
    {
     "data": {
      "text/html": [
       "<div>\n",
       "<style scoped>\n",
       "    .dataframe tbody tr th:only-of-type {\n",
       "        vertical-align: middle;\n",
       "    }\n",
       "\n",
       "    .dataframe tbody tr th {\n",
       "        vertical-align: top;\n",
       "    }\n",
       "\n",
       "    .dataframe thead th {\n",
       "        text-align: right;\n",
       "    }\n",
       "</style>\n",
       "<table border=\"1\" class=\"dataframe\">\n",
       "  <thead>\n",
       "    <tr style=\"text-align: right;\">\n",
       "      <th>deposit</th>\n",
       "      <th>no</th>\n",
       "      <th>yes</th>\n",
       "    </tr>\n",
       "    <tr>\n",
       "      <th>month_int</th>\n",
       "      <th></th>\n",
       "      <th></th>\n",
       "    </tr>\n",
       "  </thead>\n",
       "  <tbody>\n",
       "    <tr>\n",
       "      <th>1.0</th>\n",
       "      <td>56.387665</td>\n",
       "      <td>43.612335</td>\n",
       "    </tr>\n",
       "    <tr>\n",
       "      <th>2.0</th>\n",
       "      <td>43.632959</td>\n",
       "      <td>56.367041</td>\n",
       "    </tr>\n",
       "    <tr>\n",
       "      <th>3.0</th>\n",
       "      <td>11.055276</td>\n",
       "      <td>88.944724</td>\n",
       "    </tr>\n",
       "    <tr>\n",
       "      <th>4.0</th>\n",
       "      <td>37.311178</td>\n",
       "      <td>62.688822</td>\n",
       "    </tr>\n",
       "    <tr>\n",
       "      <th>5.0</th>\n",
       "      <td>66.649798</td>\n",
       "      <td>33.350202</td>\n",
       "    </tr>\n",
       "    <tr>\n",
       "      <th>6.0</th>\n",
       "      <td>55.075846</td>\n",
       "      <td>44.924154</td>\n",
       "    </tr>\n",
       "    <tr>\n",
       "      <th>7.0</th>\n",
       "      <td>59.142857</td>\n",
       "      <td>40.857143</td>\n",
       "    </tr>\n",
       "    <tr>\n",
       "      <th>8.0</th>\n",
       "      <td>54.285714</td>\n",
       "      <td>45.714286</td>\n",
       "    </tr>\n",
       "    <tr>\n",
       "      <th>9.0</th>\n",
       "      <td>16.037736</td>\n",
       "      <td>83.962264</td>\n",
       "    </tr>\n",
       "    <tr>\n",
       "      <th>10.0</th>\n",
       "      <td>15.034965</td>\n",
       "      <td>84.965035</td>\n",
       "    </tr>\n",
       "    <tr>\n",
       "      <th>11.0</th>\n",
       "      <td>55.859970</td>\n",
       "      <td>44.140030</td>\n",
       "    </tr>\n",
       "    <tr>\n",
       "      <th>12.0</th>\n",
       "      <td>11.764706</td>\n",
       "      <td>88.235294</td>\n",
       "    </tr>\n",
       "  </tbody>\n",
       "</table>\n",
       "</div>"
      ],
      "text/plain": [
       "deposit           no        yes\n",
       "month_int                      \n",
       "1.0        56.387665  43.612335\n",
       "2.0        43.632959  56.367041\n",
       "3.0        11.055276  88.944724\n",
       "4.0        37.311178  62.688822\n",
       "5.0        66.649798  33.350202\n",
       "6.0        55.075846  44.924154\n",
       "7.0        59.142857  40.857143\n",
       "8.0        54.285714  45.714286\n",
       "9.0        16.037736  83.962264\n",
       "10.0       15.034965  84.965035\n",
       "11.0       55.859970  44.140030\n",
       "12.0       11.764706  88.235294"
      ]
     },
     "execution_count": 13,
     "metadata": {},
     "output_type": "execute_result"
    }
   ],
   "source": [
    "# Buat crosstab menggunakan kolom bulan yang sudah dibuat\n",
    "month_deposit = pd.crosstab(df2['deposit'], df2['month_int']).apply(lambda x:x/x.sum()*100)\n",
    "\n",
    "# Transpose \n",
    "month_deposit = month_deposit.transpose()\n",
    "\n",
    "month_deposit"
   ]
  },
  {
   "cell_type": "code",
   "execution_count": 14,
   "metadata": {},
   "outputs": [
    {
     "data": {
      "text/html": [
       "<div>\n",
       "<style scoped>\n",
       "    .dataframe tbody tr th:only-of-type {\n",
       "        vertical-align: middle;\n",
       "    }\n",
       "\n",
       "    .dataframe tbody tr th {\n",
       "        vertical-align: top;\n",
       "    }\n",
       "\n",
       "    .dataframe thead th {\n",
       "        text-align: right;\n",
       "    }\n",
       "</style>\n",
       "<table border=\"1\" class=\"dataframe\">\n",
       "  <thead>\n",
       "    <tr style=\"text-align: right;\">\n",
       "      <th></th>\n",
       "      <th>contact_pct</th>\n",
       "      <th>deposit_pct</th>\n",
       "    </tr>\n",
       "  </thead>\n",
       "  <tbody>\n",
       "    <tr>\n",
       "      <th>5.0</th>\n",
       "      <td>25.291181</td>\n",
       "      <td>33.350202</td>\n",
       "    </tr>\n",
       "    <tr>\n",
       "      <th>8.0</th>\n",
       "      <td>13.887111</td>\n",
       "      <td>45.714286</td>\n",
       "    </tr>\n",
       "    <tr>\n",
       "      <th>7.0</th>\n",
       "      <td>13.439140</td>\n",
       "      <td>40.857143</td>\n",
       "    </tr>\n",
       "    <tr>\n",
       "      <th>6.0</th>\n",
       "      <td>10.968898</td>\n",
       "      <td>44.924154</td>\n",
       "    </tr>\n",
       "    <tr>\n",
       "      <th>4.0</th>\n",
       "      <td>8.473058</td>\n",
       "      <td>62.688822</td>\n",
       "    </tr>\n",
       "    <tr>\n",
       "      <th>11.0</th>\n",
       "      <td>8.409062</td>\n",
       "      <td>44.140030</td>\n",
       "    </tr>\n",
       "    <tr>\n",
       "      <th>2.0</th>\n",
       "      <td>6.834763</td>\n",
       "      <td>56.367041</td>\n",
       "    </tr>\n",
       "    <tr>\n",
       "      <th>10.0</th>\n",
       "      <td>3.660566</td>\n",
       "      <td>84.965035</td>\n",
       "    </tr>\n",
       "    <tr>\n",
       "      <th>1.0</th>\n",
       "      <td>2.905414</td>\n",
       "      <td>43.612335</td>\n",
       "    </tr>\n",
       "    <tr>\n",
       "      <th>9.0</th>\n",
       "      <td>2.713426</td>\n",
       "      <td>83.962264</td>\n",
       "    </tr>\n",
       "    <tr>\n",
       "      <th>3.0</th>\n",
       "      <td>2.547037</td>\n",
       "      <td>88.944724</td>\n",
       "    </tr>\n",
       "    <tr>\n",
       "      <th>12.0</th>\n",
       "      <td>0.870344</td>\n",
       "      <td>88.235294</td>\n",
       "    </tr>\n",
       "  </tbody>\n",
       "</table>\n",
       "</div>"
      ],
      "text/plain": [
       "      contact_pct  deposit_pct\n",
       "5.0     25.291181    33.350202\n",
       "8.0     13.887111    45.714286\n",
       "7.0     13.439140    40.857143\n",
       "6.0     10.968898    44.924154\n",
       "4.0      8.473058    62.688822\n",
       "11.0     8.409062    44.140030\n",
       "2.0      6.834763    56.367041\n",
       "10.0     3.660566    84.965035\n",
       "1.0      2.905414    43.612335\n",
       "9.0      2.713426    83.962264\n",
       "3.0      2.547037    88.944724\n",
       "12.0     0.870344    88.235294"
      ]
     },
     "execution_count": 14,
     "metadata": {},
     "output_type": "execute_result"
    }
   ],
   "source": [
    "# Kita akan membuat dataframe baru dimana kita akan melihat hubungan antara contact rate dan deposit rate pada bulan tersebut\n",
    "month = pd.DataFrame(df2['month_int'].value_counts())\n",
    "month['contact_pct'] = month['month_int']*100/month['month_int'].sum()\n",
    "month['deposit_pct'] = month_deposit['yes']\n",
    "\n",
    "month.drop('month_int', axis=1, inplace=True)\n",
    "\n",
    "month\n"
   ]
  },
  {
   "cell_type": "code",
   "execution_count": 15,
   "metadata": {},
   "outputs": [
    {
     "data": {
      "text/html": [
       "<div>\n",
       "<style scoped>\n",
       "    .dataframe tbody tr th:only-of-type {\n",
       "        vertical-align: middle;\n",
       "    }\n",
       "\n",
       "    .dataframe tbody tr th {\n",
       "        vertical-align: top;\n",
       "    }\n",
       "\n",
       "    .dataframe thead th {\n",
       "        text-align: right;\n",
       "    }\n",
       "</style>\n",
       "<table border=\"1\" class=\"dataframe\">\n",
       "  <thead>\n",
       "    <tr style=\"text-align: right;\">\n",
       "      <th></th>\n",
       "      <th>contact_pct</th>\n",
       "      <th>deposit_pct</th>\n",
       "      <th>month</th>\n",
       "    </tr>\n",
       "  </thead>\n",
       "  <tbody>\n",
       "    <tr>\n",
       "      <th>1.0</th>\n",
       "      <td>2.905414</td>\n",
       "      <td>43.612335</td>\n",
       "      <td>1</td>\n",
       "    </tr>\n",
       "    <tr>\n",
       "      <th>2.0</th>\n",
       "      <td>6.834763</td>\n",
       "      <td>56.367041</td>\n",
       "      <td>2</td>\n",
       "    </tr>\n",
       "    <tr>\n",
       "      <th>3.0</th>\n",
       "      <td>2.547037</td>\n",
       "      <td>88.944724</td>\n",
       "      <td>3</td>\n",
       "    </tr>\n",
       "    <tr>\n",
       "      <th>4.0</th>\n",
       "      <td>8.473058</td>\n",
       "      <td>62.688822</td>\n",
       "      <td>4</td>\n",
       "    </tr>\n",
       "    <tr>\n",
       "      <th>5.0</th>\n",
       "      <td>25.291181</td>\n",
       "      <td>33.350202</td>\n",
       "      <td>5</td>\n",
       "    </tr>\n",
       "    <tr>\n",
       "      <th>6.0</th>\n",
       "      <td>10.968898</td>\n",
       "      <td>44.924154</td>\n",
       "      <td>6</td>\n",
       "    </tr>\n",
       "    <tr>\n",
       "      <th>7.0</th>\n",
       "      <td>13.439140</td>\n",
       "      <td>40.857143</td>\n",
       "      <td>7</td>\n",
       "    </tr>\n",
       "    <tr>\n",
       "      <th>8.0</th>\n",
       "      <td>13.887111</td>\n",
       "      <td>45.714286</td>\n",
       "      <td>8</td>\n",
       "    </tr>\n",
       "    <tr>\n",
       "      <th>9.0</th>\n",
       "      <td>2.713426</td>\n",
       "      <td>83.962264</td>\n",
       "      <td>9</td>\n",
       "    </tr>\n",
       "    <tr>\n",
       "      <th>10.0</th>\n",
       "      <td>3.660566</td>\n",
       "      <td>84.965035</td>\n",
       "      <td>10</td>\n",
       "    </tr>\n",
       "    <tr>\n",
       "      <th>11.0</th>\n",
       "      <td>8.409062</td>\n",
       "      <td>44.140030</td>\n",
       "      <td>11</td>\n",
       "    </tr>\n",
       "    <tr>\n",
       "      <th>12.0</th>\n",
       "      <td>0.870344</td>\n",
       "      <td>88.235294</td>\n",
       "      <td>12</td>\n",
       "    </tr>\n",
       "  </tbody>\n",
       "</table>\n",
       "</div>"
      ],
      "text/plain": [
       "      contact_pct  deposit_pct  month\n",
       "1.0      2.905414    43.612335      1\n",
       "2.0      6.834763    56.367041      2\n",
       "3.0      2.547037    88.944724      3\n",
       "4.0      8.473058    62.688822      4\n",
       "5.0     25.291181    33.350202      5\n",
       "6.0     10.968898    44.924154      6\n",
       "7.0     13.439140    40.857143      7\n",
       "8.0     13.887111    45.714286      8\n",
       "9.0      2.713426    83.962264      9\n",
       "10.0     3.660566    84.965035     10\n",
       "11.0     8.409062    44.140030     11\n",
       "12.0     0.870344    88.235294     12"
      ]
     },
     "execution_count": 15,
     "metadata": {},
     "output_type": "execute_result"
    }
   ],
   "source": [
    "# Kita urutkan data diatas agar bisa diplot\n",
    "month['month'] = [5,8,7,6,4,11,2,10,1,9,3,12]\n",
    "month = month.sort_values('month', ascending=True)\n",
    "\n",
    "month"
   ]
  },
  {
   "cell_type": "code",
   "execution_count": 16,
   "metadata": {},
   "outputs": [
    {
     "data": {
      "image/png": "[encoded data removed]",
      "text/plain": [
       "<Figure size 720x360 with 1 Axes>"
      ]
     },
     "metadata": {
      "needs_background": "light"
     },
     "output_type": "display_data"
    }
   ],
   "source": [
    "# Gambar line chart dari data diatas\n",
    "month[['deposit_pct','contact_pct']].plot(kind='line', figsize=(10,5), marker='o')\n",
    "\n",
    "plt.title('Deposit vs Contact Rate by Month')\n",
    "plt.xlabel('Month')\n",
    "plt.ylabel('Deposit & Contact Rate')\n",
    "plt.xticks(np.arange(1,13,1))\n",
    "\n",
    "plt.show()"
   ]
  },
  {
   "cell_type": "markdown",
   "metadata": {},
   "source": [
    "**Insight**\n",
    "\n",
    "- Rata-rata contact rate tinggi ada diantara bulan mei sampai agustus, dimana paling tinggi ada di bulan Mei. Lalu trendnya cenderung turun diakhir dan awal tahun\n",
    "- Jika dibandingkan dengan deposit rate, justru pergerakannya adalah kebalikan dari contact rate. Pada bulan Mei dimana contact rate tertinggi, deposit rate justru pada angka terendahnya\n",
    "- Dari chart ini kita bisa menyimpulkan bahwa bisa dilakukannya perbaikan dalam melakukan contact ke customer"
   ]
  },
  {
   "cell_type": "markdown",
   "metadata": {},
   "source": [
    "#### Age\n",
    "\n",
    "Dalam menganalisa usia, kita akan membagi ke beberapa bin (5), untuk mempermudah menganalisa datanya. Kita akan lihat menurut contact ratenya, untuk mengetahui apakah ada kelompok umur tertentu yang bisa dijadikan target utama dalam campaign.\n",
    "\n",
    "Bin akan dibagi menjadi <30, 30, 40, 50, >60. Dibagi sedemikian karena melihat usia produktifnya."
   ]
  },
  {
   "cell_type": "code",
   "execution_count": 17,
   "metadata": {},
   "outputs": [
    {
     "data": {
      "text/html": [
       "<div>\n",
       "<style scoped>\n",
       "    .dataframe tbody tr th:only-of-type {\n",
       "        vertical-align: middle;\n",
       "    }\n",
       "\n",
       "    .dataframe tbody tr th {\n",
       "        vertical-align: top;\n",
       "    }\n",
       "\n",
       "    .dataframe thead th {\n",
       "        text-align: right;\n",
       "    }\n",
       "</style>\n",
       "<table border=\"1\" class=\"dataframe\">\n",
       "  <thead>\n",
       "    <tr style=\"text-align: right;\">\n",
       "      <th></th>\n",
       "      <th>age</th>\n",
       "      <th>job</th>\n",
       "      <th>balance</th>\n",
       "      <th>housing</th>\n",
       "      <th>loan</th>\n",
       "      <th>contact</th>\n",
       "      <th>month</th>\n",
       "      <th>campaign</th>\n",
       "      <th>pdays</th>\n",
       "      <th>poutcome</th>\n",
       "      <th>deposit</th>\n",
       "      <th>month_int</th>\n",
       "      <th>age_group</th>\n",
       "    </tr>\n",
       "  </thead>\n",
       "  <tbody>\n",
       "    <tr>\n",
       "      <th>0</th>\n",
       "      <td>55</td>\n",
       "      <td>admin.</td>\n",
       "      <td>1662</td>\n",
       "      <td>no</td>\n",
       "      <td>no</td>\n",
       "      <td>cellular</td>\n",
       "      <td>jun</td>\n",
       "      <td>2</td>\n",
       "      <td>-1</td>\n",
       "      <td>unknown</td>\n",
       "      <td>yes</td>\n",
       "      <td>6.0</td>\n",
       "      <td>50.0</td>\n",
       "    </tr>\n",
       "    <tr>\n",
       "      <th>1</th>\n",
       "      <td>39</td>\n",
       "      <td>self-employed</td>\n",
       "      <td>-3058</td>\n",
       "      <td>yes</td>\n",
       "      <td>yes</td>\n",
       "      <td>cellular</td>\n",
       "      <td>apr</td>\n",
       "      <td>3</td>\n",
       "      <td>-1</td>\n",
       "      <td>unknown</td>\n",
       "      <td>yes</td>\n",
       "      <td>4.0</td>\n",
       "      <td>30.0</td>\n",
       "    </tr>\n",
       "    <tr>\n",
       "      <th>2</th>\n",
       "      <td>51</td>\n",
       "      <td>admin.</td>\n",
       "      <td>3025</td>\n",
       "      <td>no</td>\n",
       "      <td>no</td>\n",
       "      <td>cellular</td>\n",
       "      <td>may</td>\n",
       "      <td>1</td>\n",
       "      <td>352</td>\n",
       "      <td>other</td>\n",
       "      <td>yes</td>\n",
       "      <td>5.0</td>\n",
       "      <td>50.0</td>\n",
       "    </tr>\n",
       "    <tr>\n",
       "      <th>3</th>\n",
       "      <td>38</td>\n",
       "      <td>services</td>\n",
       "      <td>-87</td>\n",
       "      <td>yes</td>\n",
       "      <td>no</td>\n",
       "      <td>cellular</td>\n",
       "      <td>may</td>\n",
       "      <td>1</td>\n",
       "      <td>-1</td>\n",
       "      <td>unknown</td>\n",
       "      <td>no</td>\n",
       "      <td>5.0</td>\n",
       "      <td>30.0</td>\n",
       "    </tr>\n",
       "    <tr>\n",
       "      <th>4</th>\n",
       "      <td>36</td>\n",
       "      <td>housemaid</td>\n",
       "      <td>205</td>\n",
       "      <td>yes</td>\n",
       "      <td>no</td>\n",
       "      <td>telephone</td>\n",
       "      <td>nov</td>\n",
       "      <td>4</td>\n",
       "      <td>-1</td>\n",
       "      <td>unknown</td>\n",
       "      <td>no</td>\n",
       "      <td>11.0</td>\n",
       "      <td>30.0</td>\n",
       "    </tr>\n",
       "    <tr>\n",
       "      <th>...</th>\n",
       "      <td>...</td>\n",
       "      <td>...</td>\n",
       "      <td>...</td>\n",
       "      <td>...</td>\n",
       "      <td>...</td>\n",
       "      <td>...</td>\n",
       "      <td>...</td>\n",
       "      <td>...</td>\n",
       "      <td>...</td>\n",
       "      <td>...</td>\n",
       "      <td>...</td>\n",
       "      <td>...</td>\n",
       "      <td>...</td>\n",
       "    </tr>\n",
       "    <tr>\n",
       "      <th>7808</th>\n",
       "      <td>62</td>\n",
       "      <td>housemaid</td>\n",
       "      <td>2</td>\n",
       "      <td>no</td>\n",
       "      <td>no</td>\n",
       "      <td>cellular</td>\n",
       "      <td>nov</td>\n",
       "      <td>1</td>\n",
       "      <td>-1</td>\n",
       "      <td>unknown</td>\n",
       "      <td>yes</td>\n",
       "      <td>11.0</td>\n",
       "      <td>60.0</td>\n",
       "    </tr>\n",
       "    <tr>\n",
       "      <th>7809</th>\n",
       "      <td>48</td>\n",
       "      <td>housemaid</td>\n",
       "      <td>5473</td>\n",
       "      <td>no</td>\n",
       "      <td>no</td>\n",
       "      <td>cellular</td>\n",
       "      <td>feb</td>\n",
       "      <td>2</td>\n",
       "      <td>184</td>\n",
       "      <td>success</td>\n",
       "      <td>yes</td>\n",
       "      <td>2.0</td>\n",
       "      <td>40.0</td>\n",
       "    </tr>\n",
       "    <tr>\n",
       "      <th>7810</th>\n",
       "      <td>36</td>\n",
       "      <td>unknown</td>\n",
       "      <td>179</td>\n",
       "      <td>no</td>\n",
       "      <td>no</td>\n",
       "      <td>cellular</td>\n",
       "      <td>aug</td>\n",
       "      <td>8</td>\n",
       "      <td>-1</td>\n",
       "      <td>unknown</td>\n",
       "      <td>no</td>\n",
       "      <td>8.0</td>\n",
       "      <td>30.0</td>\n",
       "    </tr>\n",
       "    <tr>\n",
       "      <th>7811</th>\n",
       "      <td>31</td>\n",
       "      <td>admin.</td>\n",
       "      <td>54</td>\n",
       "      <td>yes</td>\n",
       "      <td>no</td>\n",
       "      <td>cellular</td>\n",
       "      <td>nov</td>\n",
       "      <td>1</td>\n",
       "      <td>-1</td>\n",
       "      <td>unknown</td>\n",
       "      <td>no</td>\n",
       "      <td>11.0</td>\n",
       "      <td>30.0</td>\n",
       "    </tr>\n",
       "    <tr>\n",
       "      <th>7812</th>\n",
       "      <td>60</td>\n",
       "      <td>retired</td>\n",
       "      <td>1588</td>\n",
       "      <td>no</td>\n",
       "      <td>no</td>\n",
       "      <td>cellular</td>\n",
       "      <td>oct</td>\n",
       "      <td>1</td>\n",
       "      <td>-1</td>\n",
       "      <td>unknown</td>\n",
       "      <td>yes</td>\n",
       "      <td>10.0</td>\n",
       "      <td>60.0</td>\n",
       "    </tr>\n",
       "  </tbody>\n",
       "</table>\n",
       "<p>7813 rows × 13 columns</p>\n",
       "</div>"
      ],
      "text/plain": [
       "      age            job  balance housing loan    contact month  campaign  \\\n",
       "0      55         admin.     1662      no   no   cellular   jun         2   \n",
       "1      39  self-employed    -3058     yes  yes   cellular   apr         3   \n",
       "2      51         admin.     3025      no   no   cellular   may         1   \n",
       "3      38       services      -87     yes   no   cellular   may         1   \n",
       "4      36      housemaid      205     yes   no  telephone   nov         4   \n",
       "...   ...            ...      ...     ...  ...        ...   ...       ...   \n",
       "7808   62      housemaid        2      no   no   cellular   nov         1   \n",
       "7809   48      housemaid     5473      no   no   cellular   feb         2   \n",
       "7810   36        unknown      179      no   no   cellular   aug         8   \n",
       "7811   31         admin.       54     yes   no   cellular   nov         1   \n",
       "7812   60        retired     1588      no   no   cellular   oct         1   \n",
       "\n",
       "      pdays poutcome deposit  month_int  age_group  \n",
       "0        -1  unknown     yes        6.0       50.0  \n",
       "1        -1  unknown     yes        4.0       30.0  \n",
       "2       352    other     yes        5.0       50.0  \n",
       "3        -1  unknown      no        5.0       30.0  \n",
       "4        -1  unknown      no       11.0       30.0  \n",
       "...     ...      ...     ...        ...        ...  \n",
       "7808     -1  unknown     yes       11.0       60.0  \n",
       "7809    184  success     yes        2.0       40.0  \n",
       "7810     -1  unknown      no        8.0       30.0  \n",
       "7811     -1  unknown      no       11.0       30.0  \n",
       "7812     -1  unknown     yes       10.0       60.0  \n",
       "\n",
       "[7813 rows x 13 columns]"
      ]
     },
     "execution_count": 17,
     "metadata": {},
     "output_type": "execute_result"
    }
   ],
   "source": [
    "# Bagi age menjadi beberapa bin\n",
    "list2 = [df2]\n",
    "for column in list2:\n",
    "    column.loc[column['age'] < 30, 'age_group'] = 20  # Usia 0-29 akan masuk ke grup 20\n",
    "    column.loc[(column['age'] >=30) & (column['age'] <= 39), 'age_group'] = 30  # Usia 30-39 akan masuk grup 30\n",
    "    column.loc[(column['age'] >=40) & (column['age'] <= 49), 'age_group'] = 40  # Usia 40-49 akan masuk grup 40\n",
    "    column.loc[(column['age'] >=50) & (column['age'] <= 59), 'age_group'] = 50  # Usia 50-59 akan masuk grup 50\n",
    "    column.loc[(column['age'] >= 60), 'age_group'] = 60  # Usia >=60 masuk ke grup 60\n",
    "\n",
    "df2\n"
   ]
  },
  {
   "cell_type": "code",
   "execution_count": 18,
   "metadata": {},
   "outputs": [
    {
     "data": {
      "text/html": [
       "<div>\n",
       "<style scoped>\n",
       "    .dataframe tbody tr th:only-of-type {\n",
       "        vertical-align: middle;\n",
       "    }\n",
       "\n",
       "    .dataframe tbody tr th {\n",
       "        vertical-align: top;\n",
       "    }\n",
       "\n",
       "    .dataframe thead th {\n",
       "        text-align: right;\n",
       "    }\n",
       "</style>\n",
       "<table border=\"1\" class=\"dataframe\">\n",
       "  <thead>\n",
       "    <tr style=\"text-align: right;\">\n",
       "      <th>deposit</th>\n",
       "      <th>no</th>\n",
       "      <th>yes</th>\n",
       "    </tr>\n",
       "    <tr>\n",
       "      <th>age_group</th>\n",
       "      <th></th>\n",
       "      <th></th>\n",
       "    </tr>\n",
       "  </thead>\n",
       "  <tbody>\n",
       "    <tr>\n",
       "      <th>20.0</th>\n",
       "      <td>41.148776</td>\n",
       "      <td>58.851224</td>\n",
       "    </tr>\n",
       "    <tr>\n",
       "      <th>30.0</th>\n",
       "      <td>55.294118</td>\n",
       "      <td>44.705882</td>\n",
       "    </tr>\n",
       "    <tr>\n",
       "      <th>40.0</th>\n",
       "      <td>59.366466</td>\n",
       "      <td>40.633534</td>\n",
       "    </tr>\n",
       "    <tr>\n",
       "      <th>50.0</th>\n",
       "      <td>56.475096</td>\n",
       "      <td>43.524904</td>\n",
       "    </tr>\n",
       "    <tr>\n",
       "      <th>60.0</th>\n",
       "      <td>23.063063</td>\n",
       "      <td>76.936937</td>\n",
       "    </tr>\n",
       "  </tbody>\n",
       "</table>\n",
       "</div>"
      ],
      "text/plain": [
       "deposit           no        yes\n",
       "age_group                      \n",
       "20.0       41.148776  58.851224\n",
       "30.0       55.294118  44.705882\n",
       "40.0       59.366466  40.633534\n",
       "50.0       56.475096  43.524904\n",
       "60.0       23.063063  76.936937"
      ]
     },
     "execution_count": 18,
     "metadata": {},
     "output_type": "execute_result"
    }
   ],
   "source": [
    "# Buat crosstab untuk menghitung persentase deposit rate\n",
    "age_deposit = pd.crosstab(df2['deposit'], df2['age_group']).apply(lambda x:x/x.sum()*100)\n",
    "\n",
    "# Transpose\n",
    "age_deposit = age_deposit.transpose()\n",
    "\n",
    "age_deposit"
   ]
  },
  {
   "cell_type": "code",
   "execution_count": 19,
   "metadata": {},
   "outputs": [
    {
     "data": {
      "text/html": [
       "<div>\n",
       "<style scoped>\n",
       "    .dataframe tbody tr th:only-of-type {\n",
       "        vertical-align: middle;\n",
       "    }\n",
       "\n",
       "    .dataframe tbody tr th {\n",
       "        vertical-align: top;\n",
       "    }\n",
       "\n",
       "    .dataframe thead th {\n",
       "        text-align: right;\n",
       "    }\n",
       "</style>\n",
       "<table border=\"1\" class=\"dataframe\">\n",
       "  <thead>\n",
       "    <tr style=\"text-align: right;\">\n",
       "      <th></th>\n",
       "      <th>contact_pct</th>\n",
       "      <th>deposit_pct</th>\n",
       "    </tr>\n",
       "  </thead>\n",
       "  <tbody>\n",
       "    <tr>\n",
       "      <th>30.0</th>\n",
       "      <td>39.165493</td>\n",
       "      <td>44.705882</td>\n",
       "    </tr>\n",
       "    <tr>\n",
       "      <th>40.0</th>\n",
       "      <td>23.435300</td>\n",
       "      <td>40.633534</td>\n",
       "    </tr>\n",
       "    <tr>\n",
       "      <th>50.0</th>\n",
       "      <td>16.702931</td>\n",
       "      <td>43.524904</td>\n",
       "    </tr>\n",
       "    <tr>\n",
       "      <th>20.0</th>\n",
       "      <td>13.592730</td>\n",
       "      <td>58.851224</td>\n",
       "    </tr>\n",
       "    <tr>\n",
       "      <th>60.0</th>\n",
       "      <td>7.103545</td>\n",
       "      <td>76.936937</td>\n",
       "    </tr>\n",
       "  </tbody>\n",
       "</table>\n",
       "</div>"
      ],
      "text/plain": [
       "      contact_pct  deposit_pct\n",
       "30.0    39.165493    44.705882\n",
       "40.0    23.435300    40.633534\n",
       "50.0    16.702931    43.524904\n",
       "20.0    13.592730    58.851224\n",
       "60.0     7.103545    76.936937"
      ]
     },
     "execution_count": 19,
     "metadata": {},
     "output_type": "execute_result"
    }
   ],
   "source": [
    "# Buat dataframe baru yang berisikan persentase yang dikontak dan yang melakukan deposit\n",
    "age = pd.DataFrame(df2['age_group'].value_counts())\n",
    "age['contact_pct'] = age['age_group']*100/age['age_group'].sum()\n",
    "age['deposit_pct'] = age_deposit['yes']\n",
    "\n",
    "age.drop('age_group', axis=1, inplace=True)\n",
    "\n",
    "age"
   ]
  },
  {
   "cell_type": "code",
   "execution_count": 20,
   "metadata": {},
   "outputs": [
    {
     "data": {
      "text/html": [
       "<div>\n",
       "<style scoped>\n",
       "    .dataframe tbody tr th:only-of-type {\n",
       "        vertical-align: middle;\n",
       "    }\n",
       "\n",
       "    .dataframe tbody tr th {\n",
       "        vertical-align: top;\n",
       "    }\n",
       "\n",
       "    .dataframe thead th {\n",
       "        text-align: right;\n",
       "    }\n",
       "</style>\n",
       "<table border=\"1\" class=\"dataframe\">\n",
       "  <thead>\n",
       "    <tr style=\"text-align: right;\">\n",
       "      <th></th>\n",
       "      <th>contact_pct</th>\n",
       "      <th>deposit_pct</th>\n",
       "      <th>age</th>\n",
       "    </tr>\n",
       "  </thead>\n",
       "  <tbody>\n",
       "    <tr>\n",
       "      <th>60.0</th>\n",
       "      <td>7.103545</td>\n",
       "      <td>76.936937</td>\n",
       "      <td>20</td>\n",
       "    </tr>\n",
       "    <tr>\n",
       "      <th>30.0</th>\n",
       "      <td>39.165493</td>\n",
       "      <td>44.705882</td>\n",
       "      <td>30</td>\n",
       "    </tr>\n",
       "    <tr>\n",
       "      <th>40.0</th>\n",
       "      <td>23.435300</td>\n",
       "      <td>40.633534</td>\n",
       "      <td>40</td>\n",
       "    </tr>\n",
       "    <tr>\n",
       "      <th>50.0</th>\n",
       "      <td>16.702931</td>\n",
       "      <td>43.524904</td>\n",
       "      <td>50</td>\n",
       "    </tr>\n",
       "    <tr>\n",
       "      <th>20.0</th>\n",
       "      <td>13.592730</td>\n",
       "      <td>58.851224</td>\n",
       "      <td>60</td>\n",
       "    </tr>\n",
       "  </tbody>\n",
       "</table>\n",
       "</div>"
      ],
      "text/plain": [
       "      contact_pct  deposit_pct  age\n",
       "60.0     7.103545    76.936937   20\n",
       "30.0    39.165493    44.705882   30\n",
       "40.0    23.435300    40.633534   40\n",
       "50.0    16.702931    43.524904   50\n",
       "20.0    13.592730    58.851224   60"
      ]
     },
     "execution_count": 20,
     "metadata": {},
     "output_type": "execute_result"
    }
   ],
   "source": [
    "# Urutkan data diatas sesuai grupnya\n",
    "age['age'] = [30,40,50,60,20]\n",
    "\n",
    "age = age.sort_values('age', ascending=True)\n",
    "\n",
    "age"
   ]
  },
  {
   "cell_type": "code",
   "execution_count": 21,
   "metadata": {},
   "outputs": [
    {
     "data": {
      "image/png": "[encoded data removed]",
      "text/plain": [
       "<Figure size 720x360 with 1 Axes>"
      ]
     },
     "metadata": {
      "needs_background": "light"
     },
     "output_type": "display_data"
    }
   ],
   "source": [
    "age[['deposit_pct','contact_pct']].plot(kind='bar', figsize=(10,5))\n",
    "\n",
    "plt.title('Deposit vs Contact Rate by Age Group')\n",
    "plt.xlabel('Age Group')\n",
    "plt.ylabel('Deposit Rate')\n",
    "plt.xticks(np.arange(5),('<30', '30-39','40-49','50-59','>60'), rotation='horizontal')\n",
    "\n",
    "plt.show()"
   ]
  },
  {
   "cell_type": "markdown",
   "metadata": {},
   "source": [
    "**Insight**\n",
    "\n",
    "- Bisa dilihat bahwa jumlah customer yang memiliki peluang deposit yang tinggi ada di grup <30 dan >60\n",
    "- Sedangkan contact rate di kedua grup tersebut adalah yang terendah\n",
    "- Jika dilihat dari jenis investasinya (deposit), anak muda dan orang tua memang lebih cenderung memilih deposit dibandingkan pada customer yang di usia kerja. Karena memang lebih rendah resikonya, namun hasilnya juga lebih terjamin returnnya walaupun tidak besar. Sedangkan untuk mereka yang sedang di usia produktif, kemungkinan lebih memilih jenis investasi lain yang lebih beresiko dan lebih tinggi returnnya.\n",
    "- Chart ini juga menjustifikasi temuan kita pada chart job, dimana student dan retired menempati 2 posisi teratas pada job yang memiliki deposit rate yang tinggi.\n",
    "- Data ini bisa menjadi masukan kepada tim marketing untuk bisa memfokuskan lebih banyak resource ke kedua grup tersebut"
   ]
  },
  {
   "cell_type": "markdown",
   "metadata": {},
   "source": [
    "#### Balance\n"
   ]
  },
  {
   "cell_type": "code",
   "execution_count": 22,
   "metadata": {},
   "outputs": [],
   "source": [
    "# Sama seperti age, kita akan bagi balance menjadi grup (4)\n",
    "list3 = [df2]\n",
    "for column in list3:\n",
    "    column.loc[column['balance'] <= 0, 'balance_group'] = '0' #Kita akan group yang 0 dan minus \n",
    "    column.loc[(column['balance'] > 0) & (column['balance'] <= 1000), 'balance_group'] = '0-1000' #Balance rendah\n",
    "    column.loc[(column['balance'] > 1000) & (column['balance'] <= 10000), 'balance_group'] = '1000-10000' #Balance standar\n",
    "    column.loc[(column['balance'] > 10000), 'balance_group'] = '>10000' #Balance tinggi"
   ]
  },
  {
   "cell_type": "code",
   "execution_count": 23,
   "metadata": {},
   "outputs": [
    {
     "data": {
      "text/html": [
       "<div>\n",
       "<style scoped>\n",
       "    .dataframe tbody tr th:only-of-type {\n",
       "        vertical-align: middle;\n",
       "    }\n",
       "\n",
       "    .dataframe tbody tr th {\n",
       "        vertical-align: top;\n",
       "    }\n",
       "\n",
       "    .dataframe thead th {\n",
       "        text-align: right;\n",
       "    }\n",
       "</style>\n",
       "<table border=\"1\" class=\"dataframe\">\n",
       "  <thead>\n",
       "    <tr style=\"text-align: right;\">\n",
       "      <th>deposit</th>\n",
       "      <th>no</th>\n",
       "      <th>yes</th>\n",
       "    </tr>\n",
       "    <tr>\n",
       "      <th>balance_group</th>\n",
       "      <th></th>\n",
       "      <th></th>\n",
       "    </tr>\n",
       "  </thead>\n",
       "  <tbody>\n",
       "    <tr>\n",
       "      <th>0</th>\n",
       "      <td>66.146341</td>\n",
       "      <td>33.853659</td>\n",
       "    </tr>\n",
       "    <tr>\n",
       "      <th>0-1000</th>\n",
       "      <td>54.895545</td>\n",
       "      <td>45.104455</td>\n",
       "    </tr>\n",
       "    <tr>\n",
       "      <th>1000-10000</th>\n",
       "      <td>43.825301</td>\n",
       "      <td>56.174699</td>\n",
       "    </tr>\n",
       "    <tr>\n",
       "      <th>&gt;10000</th>\n",
       "      <td>36.477987</td>\n",
       "      <td>63.522013</td>\n",
       "    </tr>\n",
       "  </tbody>\n",
       "</table>\n",
       "</div>"
      ],
      "text/plain": [
       "deposit               no        yes\n",
       "balance_group                      \n",
       "0              66.146341  33.853659\n",
       "0-1000         54.895545  45.104455\n",
       "1000-10000     43.825301  56.174699\n",
       ">10000         36.477987  63.522013"
      ]
     },
     "execution_count": 23,
     "metadata": {},
     "output_type": "execute_result"
    }
   ],
   "source": [
    "# Buat crosstabnya\n",
    "balance_deposit = pd.crosstab(df2['deposit'], df2['balance_group']).apply(lambda x:x/x.sum()*100)\n",
    "\n",
    "# Transpose\n",
    "balance_deposit = balance_deposit.transpose()\n",
    "\n",
    "balance_deposit"
   ]
  },
  {
   "cell_type": "code",
   "execution_count": 24,
   "metadata": {},
   "outputs": [
    {
     "data": {
      "text/html": [
       "<div>\n",
       "<style scoped>\n",
       "    .dataframe tbody tr th:only-of-type {\n",
       "        vertical-align: middle;\n",
       "    }\n",
       "\n",
       "    .dataframe tbody tr th {\n",
       "        vertical-align: top;\n",
       "    }\n",
       "\n",
       "    .dataframe thead th {\n",
       "        text-align: right;\n",
       "    }\n",
       "</style>\n",
       "<table border=\"1\" class=\"dataframe\">\n",
       "  <thead>\n",
       "    <tr style=\"text-align: right;\">\n",
       "      <th></th>\n",
       "      <th>contact_pct</th>\n",
       "      <th>deposit_pct</th>\n",
       "    </tr>\n",
       "  </thead>\n",
       "  <tbody>\n",
       "    <tr>\n",
       "      <th>0-1000</th>\n",
       "      <td>50.851146</td>\n",
       "      <td>45.104455</td>\n",
       "    </tr>\n",
       "    <tr>\n",
       "      <th>1000-10000</th>\n",
       "      <td>33.994624</td>\n",
       "      <td>56.174699</td>\n",
       "    </tr>\n",
       "    <tr>\n",
       "      <th>0</th>\n",
       "      <td>13.119160</td>\n",
       "      <td>33.853659</td>\n",
       "    </tr>\n",
       "    <tr>\n",
       "      <th>&gt;10000</th>\n",
       "      <td>2.035070</td>\n",
       "      <td>63.522013</td>\n",
       "    </tr>\n",
       "  </tbody>\n",
       "</table>\n",
       "</div>"
      ],
      "text/plain": [
       "            contact_pct  deposit_pct\n",
       "0-1000        50.851146    45.104455\n",
       "1000-10000    33.994624    56.174699\n",
       "0             13.119160    33.853659\n",
       ">10000         2.035070    63.522013"
      ]
     },
     "execution_count": 24,
     "metadata": {},
     "output_type": "execute_result"
    }
   ],
   "source": [
    "# Gabungkan data yang sudah disiapkan\n",
    "balance = pd.DataFrame(df2['balance_group'].value_counts())\n",
    "balance['contact_pct'] = balance['balance_group']*100/balance['balance_group'].sum()\n",
    "balance['deposit_pct'] = balance_deposit['yes']\n",
    "balance.drop('balance_group', axis=1, inplace=True)\n",
    "\n",
    "balance"
   ]
  },
  {
   "cell_type": "code",
   "execution_count": 25,
   "metadata": {},
   "outputs": [
    {
     "data": {
      "text/html": [
       "<div>\n",
       "<style scoped>\n",
       "    .dataframe tbody tr th:only-of-type {\n",
       "        vertical-align: middle;\n",
       "    }\n",
       "\n",
       "    .dataframe tbody tr th {\n",
       "        vertical-align: top;\n",
       "    }\n",
       "\n",
       "    .dataframe thead th {\n",
       "        text-align: right;\n",
       "    }\n",
       "</style>\n",
       "<table border=\"1\" class=\"dataframe\">\n",
       "  <thead>\n",
       "    <tr style=\"text-align: right;\">\n",
       "      <th></th>\n",
       "      <th>contact_pct</th>\n",
       "      <th>deposit_pct</th>\n",
       "      <th>rank</th>\n",
       "    </tr>\n",
       "  </thead>\n",
       "  <tbody>\n",
       "    <tr>\n",
       "      <th>0</th>\n",
       "      <td>13.119160</td>\n",
       "      <td>33.853659</td>\n",
       "      <td>0</td>\n",
       "    </tr>\n",
       "    <tr>\n",
       "      <th>0-1000</th>\n",
       "      <td>50.851146</td>\n",
       "      <td>45.104455</td>\n",
       "      <td>1</td>\n",
       "    </tr>\n",
       "    <tr>\n",
       "      <th>1000-10000</th>\n",
       "      <td>33.994624</td>\n",
       "      <td>56.174699</td>\n",
       "      <td>2</td>\n",
       "    </tr>\n",
       "    <tr>\n",
       "      <th>&gt;10000</th>\n",
       "      <td>2.035070</td>\n",
       "      <td>63.522013</td>\n",
       "      <td>3</td>\n",
       "    </tr>\n",
       "  </tbody>\n",
       "</table>\n",
       "</div>"
      ],
      "text/plain": [
       "            contact_pct  deposit_pct  rank\n",
       "0             13.119160    33.853659     0\n",
       "0-1000        50.851146    45.104455     1\n",
       "1000-10000    33.994624    56.174699     2\n",
       ">10000         2.035070    63.522013     3"
      ]
     },
     "execution_count": 25,
     "metadata": {},
     "output_type": "execute_result"
    }
   ],
   "source": [
    "# Urutkan tabel diatas\n",
    "balance['rank'] = [1,2,0,3]\n",
    "balance = balance.sort_values('rank', ascending=True)\n",
    "balance"
   ]
  },
  {
   "cell_type": "code",
   "execution_count": 26,
   "metadata": {},
   "outputs": [
    {
     "data": {
      "image/png": "[encoded data removed]",
      "text/plain": [
       "<Figure size 720x360 with 1 Axes>"
      ]
     },
     "metadata": {
      "needs_background": "light"
     },
     "output_type": "display_data"
    }
   ],
   "source": [
    "balance[['deposit_pct','contact_pct']].plot(kind='barh', figsize=(10,5))\n",
    "\n",
    "plt.title('Deposit vs Contact by Balance')\n",
    "plt.xlabel('Deposit Rate')\n",
    "plt.ylabel('Balance Group')\n",
    "\n",
    "plt.show()"
   ]
  },
  {
   "cell_type": "markdown",
   "metadata": {},
   "source": [
    "**Insight**\n",
    "\n",
    "- Dari grafik diatas kita bisa lihat bahwa semakin tinggi balancenya semakin tinggi peluang calon customer untuk membuka deposit (terutama diatas 1000, peluangnya diatas 50%)\n",
    "- Grup yang contact ratenya paling tinggi adalah 0-1000, dimana peluang untuk pembukaan deposit masih dibawah 50%"
   ]
  },
  {
   "cell_type": "markdown",
   "metadata": {},
   "source": [
    "## Data Cleaning"
   ]
  },
  {
   "cell_type": "markdown",
   "metadata": {},
   "source": [
    "### Cek Duplikat"
   ]
  },
  {
   "cell_type": "code",
   "execution_count": 27,
   "metadata": {},
   "outputs": [
    {
     "data": {
      "text/plain": [
       "8"
      ]
     },
     "execution_count": 27,
     "metadata": {},
     "output_type": "execute_result"
    }
   ],
   "source": [
    "# Cek apakah ada data yang duplikat\n",
    "df.duplicated().sum()"
   ]
  },
  {
   "cell_type": "code",
   "execution_count": 28,
   "metadata": {},
   "outputs": [
    {
     "data": {
      "text/plain": [
       "0"
      ]
     },
     "execution_count": 28,
     "metadata": {},
     "output_type": "execute_result"
    }
   ],
   "source": [
    "# Remove duplikat\n",
    "df.drop_duplicates(keep='first', inplace=True, ignore_index=True)\n",
    "\n",
    "# Cek lagi apakah masih ada data yang duplikat\n",
    "df.duplicated().sum()"
   ]
  },
  {
   "cell_type": "markdown",
   "metadata": {},
   "source": [
    "### Missing Value"
   ]
  },
  {
   "cell_type": "code",
   "execution_count": 29,
   "metadata": {},
   "outputs": [
    {
     "data": {
      "text/plain": [
       "age         0\n",
       "job         0\n",
       "balance     0\n",
       "housing     0\n",
       "loan        0\n",
       "contact     0\n",
       "month       0\n",
       "campaign    0\n",
       "pdays       0\n",
       "poutcome    0\n",
       "deposit     0\n",
       "dtype: int64"
      ]
     },
     "execution_count": 29,
     "metadata": {},
     "output_type": "execute_result"
    }
   ],
   "source": [
    "# Cek lagi apakah terdapat missing value pada data\n",
    "df.isna().sum()"
   ]
  },
  {
   "cell_type": "markdown",
   "metadata": {},
   "source": [
    "Tidak terdapat missing value pada data yang akan digunakan"
   ]
  },
  {
   "cell_type": "code",
   "execution_count": 30,
   "metadata": {},
   "outputs": [
    {
     "data": {
      "text/plain": [
       "no     4075\n",
       "yes    3730\n",
       "Name: deposit, dtype: int64"
      ]
     },
     "execution_count": 30,
     "metadata": {},
     "output_type": "execute_result"
    }
   ],
   "source": [
    "df['deposit'].value_counts()"
   ]
  },
  {
   "cell_type": "markdown",
   "metadata": {},
   "source": [
    "#### Drop Unused Column\n",
    "\n",
    "Kita akan drop kolom contact dan poutcome.\n",
    "Pada kolom contact kebanyakan datanya adalah cellular dan unknown (telephone tidak signifikan). \n",
    "Begitu juga pada kolom poutcome, dimana datanya didominasi dengan unknown."
   ]
  },
  {
   "cell_type": "code",
   "execution_count": 31,
   "metadata": {},
   "outputs": [
    {
     "name": "stdout",
     "output_type": "stream",
     "text": [
      "Variabel dalam kolom contact:\n",
      " cellular     5623\n",
      "unknown      1636\n",
      "telephone     546\n",
      "Name: contact, dtype: int64 \n",
      "\n",
      "Variabel dalam kolom poutcome:\n",
      " unknown    5811\n",
      "failure     848\n",
      "success     761\n",
      "other       385\n",
      "Name: poutcome, dtype: int64\n"
     ]
    }
   ],
   "source": [
    "print('Variabel dalam kolom contact:\\n',df['contact'].value_counts(),'\\n')\n",
    "print('Variabel dalam kolom poutcome:\\n',df['poutcome'].value_counts())"
   ]
  },
  {
   "cell_type": "code",
   "execution_count": 32,
   "metadata": {},
   "outputs": [
    {
     "data": {
      "text/html": [
       "<div>\n",
       "<style scoped>\n",
       "    .dataframe tbody tr th:only-of-type {\n",
       "        vertical-align: middle;\n",
       "    }\n",
       "\n",
       "    .dataframe tbody tr th {\n",
       "        vertical-align: top;\n",
       "    }\n",
       "\n",
       "    .dataframe thead th {\n",
       "        text-align: right;\n",
       "    }\n",
       "</style>\n",
       "<table border=\"1\" class=\"dataframe\">\n",
       "  <thead>\n",
       "    <tr style=\"text-align: right;\">\n",
       "      <th></th>\n",
       "      <th>age</th>\n",
       "      <th>job</th>\n",
       "      <th>balance</th>\n",
       "      <th>housing</th>\n",
       "      <th>loan</th>\n",
       "      <th>month</th>\n",
       "      <th>campaign</th>\n",
       "      <th>pdays</th>\n",
       "      <th>deposit</th>\n",
       "    </tr>\n",
       "  </thead>\n",
       "  <tbody>\n",
       "    <tr>\n",
       "      <th>0</th>\n",
       "      <td>55</td>\n",
       "      <td>admin.</td>\n",
       "      <td>1662</td>\n",
       "      <td>no</td>\n",
       "      <td>no</td>\n",
       "      <td>jun</td>\n",
       "      <td>2</td>\n",
       "      <td>-1</td>\n",
       "      <td>yes</td>\n",
       "    </tr>\n",
       "    <tr>\n",
       "      <th>1</th>\n",
       "      <td>39</td>\n",
       "      <td>self-employed</td>\n",
       "      <td>-3058</td>\n",
       "      <td>yes</td>\n",
       "      <td>yes</td>\n",
       "      <td>apr</td>\n",
       "      <td>3</td>\n",
       "      <td>-1</td>\n",
       "      <td>yes</td>\n",
       "    </tr>\n",
       "    <tr>\n",
       "      <th>2</th>\n",
       "      <td>51</td>\n",
       "      <td>admin.</td>\n",
       "      <td>3025</td>\n",
       "      <td>no</td>\n",
       "      <td>no</td>\n",
       "      <td>may</td>\n",
       "      <td>1</td>\n",
       "      <td>352</td>\n",
       "      <td>yes</td>\n",
       "    </tr>\n",
       "    <tr>\n",
       "      <th>3</th>\n",
       "      <td>38</td>\n",
       "      <td>services</td>\n",
       "      <td>-87</td>\n",
       "      <td>yes</td>\n",
       "      <td>no</td>\n",
       "      <td>may</td>\n",
       "      <td>1</td>\n",
       "      <td>-1</td>\n",
       "      <td>no</td>\n",
       "    </tr>\n",
       "    <tr>\n",
       "      <th>4</th>\n",
       "      <td>36</td>\n",
       "      <td>housemaid</td>\n",
       "      <td>205</td>\n",
       "      <td>yes</td>\n",
       "      <td>no</td>\n",
       "      <td>nov</td>\n",
       "      <td>4</td>\n",
       "      <td>-1</td>\n",
       "      <td>no</td>\n",
       "    </tr>\n",
       "    <tr>\n",
       "      <th>...</th>\n",
       "      <td>...</td>\n",
       "      <td>...</td>\n",
       "      <td>...</td>\n",
       "      <td>...</td>\n",
       "      <td>...</td>\n",
       "      <td>...</td>\n",
       "      <td>...</td>\n",
       "      <td>...</td>\n",
       "      <td>...</td>\n",
       "    </tr>\n",
       "    <tr>\n",
       "      <th>7800</th>\n",
       "      <td>62</td>\n",
       "      <td>housemaid</td>\n",
       "      <td>2</td>\n",
       "      <td>no</td>\n",
       "      <td>no</td>\n",
       "      <td>nov</td>\n",
       "      <td>1</td>\n",
       "      <td>-1</td>\n",
       "      <td>yes</td>\n",
       "    </tr>\n",
       "    <tr>\n",
       "      <th>7801</th>\n",
       "      <td>48</td>\n",
       "      <td>housemaid</td>\n",
       "      <td>5473</td>\n",
       "      <td>no</td>\n",
       "      <td>no</td>\n",
       "      <td>feb</td>\n",
       "      <td>2</td>\n",
       "      <td>184</td>\n",
       "      <td>yes</td>\n",
       "    </tr>\n",
       "    <tr>\n",
       "      <th>7802</th>\n",
       "      <td>36</td>\n",
       "      <td>unknown</td>\n",
       "      <td>179</td>\n",
       "      <td>no</td>\n",
       "      <td>no</td>\n",
       "      <td>aug</td>\n",
       "      <td>8</td>\n",
       "      <td>-1</td>\n",
       "      <td>no</td>\n",
       "    </tr>\n",
       "    <tr>\n",
       "      <th>7803</th>\n",
       "      <td>31</td>\n",
       "      <td>admin.</td>\n",
       "      <td>54</td>\n",
       "      <td>yes</td>\n",
       "      <td>no</td>\n",
       "      <td>nov</td>\n",
       "      <td>1</td>\n",
       "      <td>-1</td>\n",
       "      <td>no</td>\n",
       "    </tr>\n",
       "    <tr>\n",
       "      <th>7804</th>\n",
       "      <td>60</td>\n",
       "      <td>retired</td>\n",
       "      <td>1588</td>\n",
       "      <td>no</td>\n",
       "      <td>no</td>\n",
       "      <td>oct</td>\n",
       "      <td>1</td>\n",
       "      <td>-1</td>\n",
       "      <td>yes</td>\n",
       "    </tr>\n",
       "  </tbody>\n",
       "</table>\n",
       "<p>7805 rows × 9 columns</p>\n",
       "</div>"
      ],
      "text/plain": [
       "      age            job  balance housing loan month  campaign  pdays deposit\n",
       "0      55         admin.     1662      no   no   jun         2     -1     yes\n",
       "1      39  self-employed    -3058     yes  yes   apr         3     -1     yes\n",
       "2      51         admin.     3025      no   no   may         1    352     yes\n",
       "3      38       services      -87     yes   no   may         1     -1      no\n",
       "4      36      housemaid      205     yes   no   nov         4     -1      no\n",
       "...   ...            ...      ...     ...  ...   ...       ...    ...     ...\n",
       "7800   62      housemaid        2      no   no   nov         1     -1     yes\n",
       "7801   48      housemaid     5473      no   no   feb         2    184     yes\n",
       "7802   36        unknown      179      no   no   aug         8     -1      no\n",
       "7803   31         admin.       54     yes   no   nov         1     -1      no\n",
       "7804   60        retired     1588      no   no   oct         1     -1     yes\n",
       "\n",
       "[7805 rows x 9 columns]"
      ]
     },
     "execution_count": 32,
     "metadata": {},
     "output_type": "execute_result"
    }
   ],
   "source": [
    "df.drop('contact', axis=1, inplace=True)\n",
    "df.drop('poutcome', axis=1, inplace=True)\n",
    "df"
   ]
  },
  {
   "cell_type": "markdown",
   "metadata": {},
   "source": [
    "## Preprocessing"
   ]
  },
  {
   "cell_type": "code",
   "execution_count": 33,
   "metadata": {},
   "outputs": [
    {
     "data": {
      "text/html": [
       "<div>\n",
       "<style scoped>\n",
       "    .dataframe tbody tr th:only-of-type {\n",
       "        vertical-align: middle;\n",
       "    }\n",
       "\n",
       "    .dataframe tbody tr th {\n",
       "        vertical-align: top;\n",
       "    }\n",
       "\n",
       "    .dataframe thead th {\n",
       "        text-align: right;\n",
       "    }\n",
       "</style>\n",
       "<table border=\"1\" class=\"dataframe\">\n",
       "  <thead>\n",
       "    <tr style=\"text-align: right;\">\n",
       "      <th></th>\n",
       "      <th>age</th>\n",
       "      <th>job</th>\n",
       "      <th>balance</th>\n",
       "      <th>housing</th>\n",
       "      <th>loan</th>\n",
       "      <th>month</th>\n",
       "      <th>campaign</th>\n",
       "      <th>pdays</th>\n",
       "      <th>deposit</th>\n",
       "    </tr>\n",
       "  </thead>\n",
       "  <tbody>\n",
       "    <tr>\n",
       "      <th>0</th>\n",
       "      <td>55</td>\n",
       "      <td>admin.</td>\n",
       "      <td>1662</td>\n",
       "      <td>no</td>\n",
       "      <td>no</td>\n",
       "      <td>jun</td>\n",
       "      <td>2</td>\n",
       "      <td>-1</td>\n",
       "      <td>yes</td>\n",
       "    </tr>\n",
       "    <tr>\n",
       "      <th>1</th>\n",
       "      <td>39</td>\n",
       "      <td>self-employed</td>\n",
       "      <td>-3058</td>\n",
       "      <td>yes</td>\n",
       "      <td>yes</td>\n",
       "      <td>apr</td>\n",
       "      <td>3</td>\n",
       "      <td>-1</td>\n",
       "      <td>yes</td>\n",
       "    </tr>\n",
       "    <tr>\n",
       "      <th>2</th>\n",
       "      <td>51</td>\n",
       "      <td>admin.</td>\n",
       "      <td>3025</td>\n",
       "      <td>no</td>\n",
       "      <td>no</td>\n",
       "      <td>may</td>\n",
       "      <td>1</td>\n",
       "      <td>352</td>\n",
       "      <td>yes</td>\n",
       "    </tr>\n",
       "    <tr>\n",
       "      <th>3</th>\n",
       "      <td>38</td>\n",
       "      <td>services</td>\n",
       "      <td>-87</td>\n",
       "      <td>yes</td>\n",
       "      <td>no</td>\n",
       "      <td>may</td>\n",
       "      <td>1</td>\n",
       "      <td>-1</td>\n",
       "      <td>no</td>\n",
       "    </tr>\n",
       "    <tr>\n",
       "      <th>4</th>\n",
       "      <td>36</td>\n",
       "      <td>housemaid</td>\n",
       "      <td>205</td>\n",
       "      <td>yes</td>\n",
       "      <td>no</td>\n",
       "      <td>nov</td>\n",
       "      <td>4</td>\n",
       "      <td>-1</td>\n",
       "      <td>no</td>\n",
       "    </tr>\n",
       "  </tbody>\n",
       "</table>\n",
       "</div>"
      ],
      "text/plain": [
       "   age            job  balance housing loan month  campaign  pdays deposit\n",
       "0   55         admin.     1662      no   no   jun         2     -1     yes\n",
       "1   39  self-employed    -3058     yes  yes   apr         3     -1     yes\n",
       "2   51         admin.     3025      no   no   may         1    352     yes\n",
       "3   38       services      -87     yes   no   may         1     -1      no\n",
       "4   36      housemaid      205     yes   no   nov         4     -1      no"
      ]
     },
     "execution_count": 33,
     "metadata": {},
     "output_type": "execute_result"
    }
   ],
   "source": [
    "df.head()"
   ]
  },
  {
   "cell_type": "markdown",
   "metadata": {},
   "source": [
    "Untuk melanjutkan analisa data kita harus menentukan feature encoding yang terbaik untuk data yang masih berbentuk kategorikal:\n",
    "1. `job` : kolom ini akan kita gunakan `binary encoder`, karena fitur ini tidak memiliki urutan dan jumlah datanya cukup banyak (12 unique values)\n",
    "2. `housing` : kolom ini akan kita gunakan `one-hot encoder`, karena fitur ini hanya memiliki 2 unique value dan tidak memiliki urutan (outcome 0, 1)\n",
    "3. `loan` : kolom ini akan kita gunakan `one-hot encoder`, karena fitur ini hanya memiliki 2 unique value dan tidak memiliki urutan (outcome 0, 1)\n",
    "4. `month` : kolom ini akan kita gunakan `ordinal encoder`, karena memiliki urutan dan untuk mempermudah akan kita mapping sesuai dengan bulannya"
   ]
  },
  {
   "cell_type": "code",
   "execution_count": 34,
   "metadata": {},
   "outputs": [
    {
     "data": {
      "text/plain": [
       "0       1\n",
       "1       1\n",
       "2       1\n",
       "3       0\n",
       "4       0\n",
       "       ..\n",
       "7800    1\n",
       "7801    1\n",
       "7802    0\n",
       "7803    0\n",
       "7804    1\n",
       "Name: deposit, Length: 7805, dtype: int32"
      ]
     },
     "execution_count": 34,
     "metadata": {},
     "output_type": "execute_result"
    }
   ],
   "source": [
    "# Ubah kolom deposit menjadi yes : 1, no : 0\n",
    "df['deposit'] = np.where(df['deposit']=='yes', 1, 0)\n",
    "df['deposit']"
   ]
  },
  {
   "cell_type": "code",
   "execution_count": 35,
   "metadata": {},
   "outputs": [],
   "source": [
    "# Tentukan mapping untuk kolom bulan\n",
    "ordinal_map = [\n",
    "    {'col':'month',\n",
    "    'mapping':{\n",
    "        'jan' : 1,\n",
    "        'feb' : 2, \n",
    "        'mar' : 3, \n",
    "        'apr' : 4, \n",
    "        'may' : 5, \n",
    "        'jun' : 6,\n",
    "        'jul' : 7,\n",
    "        'aug' : 8,\n",
    "        'sep' : 9, \n",
    "        'oct' : 10, \n",
    "        'nov' : 11, \n",
    "        'dec' : 12,\n",
    "    }}\n",
    "]"
   ]
  },
  {
   "cell_type": "code",
   "execution_count": 36,
   "metadata": {},
   "outputs": [],
   "source": [
    "# Tentukan encoder untuk masing-masing kolom\n",
    "transformer = ColumnTransformer([\n",
    "    ('onehot', OneHotEncoder(drop='first'), ['housing','loan']),\n",
    "    ('ordinal', ce.OrdinalEncoder(mapping=ordinal_map), ['month']),\n",
    "    ('binary', ce.BinaryEncoder(), ['job'])\n",
    "], remainder='passthrough')"
   ]
  },
  {
   "cell_type": "code",
   "execution_count": 37,
   "metadata": {},
   "outputs": [],
   "source": [
    "# Tentukan scaler\n",
    "scaler = StandardScaler()"
   ]
  },
  {
   "cell_type": "markdown",
   "metadata": {},
   "source": [
    "### Data Splitting"
   ]
  },
  {
   "cell_type": "code",
   "execution_count": 38,
   "metadata": {},
   "outputs": [],
   "source": [
    "# Tentukan features dan target\n",
    "X = df.drop(columns='deposit')\n",
    "y = df['deposit']"
   ]
  },
  {
   "cell_type": "code",
   "execution_count": 39,
   "metadata": {},
   "outputs": [],
   "source": [
    "# Split data\n",
    "X_train, X_test, y_train, y_test = train_test_split(X, y, stratify=y, test_size=0.2, random_state=42)"
   ]
  },
  {
   "cell_type": "markdown",
   "metadata": {},
   "source": [
    "## Model Performance"
   ]
  },
  {
   "cell_type": "code",
   "execution_count": 40,
   "metadata": {},
   "outputs": [],
   "source": [
    "# Model yang akan kita test performanya (jika memungkinkan akan kita tentukan random statenya agar hasil data tidak berubah-ubah)\n",
    "knn = KNeighborsClassifier()\n",
    "lr = LogisticRegression(random_state=42)\n",
    "dt = DecisionTreeClassifier(random_state=42)\n",
    "rf = RandomForestClassifier(random_state=42)\n",
    "xgb = XGBClassifier(use_label_encoder=False,eval_metric='auc', random_state=42)"
   ]
  },
  {
   "cell_type": "code",
   "execution_count": 41,
   "metadata": {},
   "outputs": [
    {
     "name": "stdout",
     "output_type": "stream",
     "text": [
      "[0.65398953 0.67164041 0.67498279 0.66234675 0.66345035] KNeighborsClassifier()\n",
      "[0.66438532 0.69009927 0.70528126 0.69370369 0.66684852] LogisticRegression(random_state=42)\n",
      "[0.60692137 0.59972922 0.61432675 0.61680334 0.60044468] DecisionTreeClassifier(random_state=42)\n",
      "[0.71220751 0.72486024 0.74161965 0.7299162  0.70881413] RandomForestClassifier(random_state=42)\n",
      "[0.70335188 0.73061756 0.73933959 0.72720967 0.71220071] XGBClassifier(base_score=None, booster=None, colsample_bylevel=None,\n",
      "              colsample_bynode=None, colsample_bytree=None,\n",
      "              enable_categorical=False, eval_metric='auc', gamma=None,\n",
      "              gpu_id=None, importance_type=None, interaction_constraints=None,\n",
      "              learning_rate=None, max_delta_step=None, max_depth=None,\n",
      "              min_child_weight=None, missing=nan, monotone_constraints=None,\n",
      "              n_estimators=100, n_jobs=None, num_parallel_tree=None,\n",
      "              predictor=None, random_state=42, reg_alpha=None, reg_lambda=None,\n",
      "              scale_pos_weight=None, subsample=None, tree_method=None,\n",
      "              use_label_encoder=False, validate_parameters=None,\n",
      "              verbosity=None)\n"
     ]
    },
    {
     "data": {
      "text/html": [
       "<div>\n",
       "<style scoped>\n",
       "    .dataframe tbody tr th:only-of-type {\n",
       "        vertical-align: middle;\n",
       "    }\n",
       "\n",
       "    .dataframe tbody tr th {\n",
       "        vertical-align: top;\n",
       "    }\n",
       "\n",
       "    .dataframe thead th {\n",
       "        text-align: right;\n",
       "    }\n",
       "</style>\n",
       "<table border=\"1\" class=\"dataframe\">\n",
       "  <thead>\n",
       "    <tr style=\"text-align: right;\">\n",
       "      <th></th>\n",
       "      <th>model</th>\n",
       "      <th>roc_auc_mean</th>\n",
       "      <th>roc_auc_std</th>\n",
       "    </tr>\n",
       "  </thead>\n",
       "  <tbody>\n",
       "    <tr>\n",
       "      <th>3</th>\n",
       "      <td>RandomForestClassifier(random_state=42)</td>\n",
       "      <td>0.723484</td>\n",
       "      <td>0.011954</td>\n",
       "    </tr>\n",
       "    <tr>\n",
       "      <th>4</th>\n",
       "      <td>XGBClassifier(base_score=None, booster=None, c...</td>\n",
       "      <td>0.722544</td>\n",
       "      <td>0.012995</td>\n",
       "    </tr>\n",
       "    <tr>\n",
       "      <th>1</th>\n",
       "      <td>LogisticRegression(random_state=42)</td>\n",
       "      <td>0.684064</td>\n",
       "      <td>0.015894</td>\n",
       "    </tr>\n",
       "    <tr>\n",
       "      <th>0</th>\n",
       "      <td>KNeighborsClassifier()</td>\n",
       "      <td>0.665282</td>\n",
       "      <td>0.007403</td>\n",
       "    </tr>\n",
       "    <tr>\n",
       "      <th>2</th>\n",
       "      <td>DecisionTreeClassifier(random_state=42)</td>\n",
       "      <td>0.607645</td>\n",
       "      <td>0.006979</td>\n",
       "    </tr>\n",
       "  </tbody>\n",
       "</table>\n",
       "</div>"
      ],
      "text/plain": [
       "                                               model  roc_auc_mean  \\\n",
       "3            RandomForestClassifier(random_state=42)      0.723484   \n",
       "4  XGBClassifier(base_score=None, booster=None, c...      0.722544   \n",
       "1                LogisticRegression(random_state=42)      0.684064   \n",
       "0                             KNeighborsClassifier()      0.665282   \n",
       "2            DecisionTreeClassifier(random_state=42)      0.607645   \n",
       "\n",
       "   roc_auc_std  \n",
       "3     0.011954  \n",
       "4     0.012995  \n",
       "1     0.015894  \n",
       "0     0.007403  \n",
       "2     0.006979  "
      ]
     },
     "execution_count": 41,
     "metadata": {},
     "output_type": "execute_result"
    }
   ],
   "source": [
    "list_model = [knn, lr, dt, rf, xgb]\n",
    "\n",
    "list_mean = []\n",
    "list_std = []\n",
    "\n",
    "for i in list_model:\n",
    "    skfold = StratifiedKFold(n_splits=5)\n",
    "\n",
    "    estimator = Pipeline([\n",
    "        ('transform',transformer),\n",
    "        ('scale',scaler),\n",
    "        ('model', i)\n",
    "    ])\n",
    "\n",
    "    model_cv = cross_val_score(\n",
    "        estimator=estimator,\n",
    "        X= X_train,\n",
    "        y=y_train,\n",
    "        cv=skfold,\n",
    "        scoring='roc_auc',\n",
    "        error_score='raise'\n",
    "    )\n",
    "\n",
    "    print(model_cv, i )\n",
    "\n",
    "    list_mean.append(model_cv.mean())\n",
    "    list_std.append(model_cv.std())\n",
    "\n",
    "pd.DataFrame({\n",
    "    'model':list_model,\n",
    "    'roc_auc_mean':list_mean,\n",
    "    'roc_auc_std':list_std\n",
    "}).sort_values('roc_auc_mean', ascending=False)"
   ]
  },
  {
   "cell_type": "markdown",
   "metadata": {},
   "source": [
    "Terlihat bahwa model yang terbaik adalah Random Forest Classifier berdasarkan roc_aucnya dengan menggunakan hyperparameter default."
   ]
  },
  {
   "cell_type": "markdown",
   "metadata": {},
   "source": [
    "## Model Benchmarking : Test Data"
   ]
  },
  {
   "cell_type": "markdown",
   "metadata": {},
   "source": [
    "Kita akan lakukan test lagi model-model tersebut dengan menggunakan data test untuk melihat model mana yang memiliki performa terbaik."
   ]
  },
  {
   "cell_type": "code",
   "execution_count": 42,
   "metadata": {},
   "outputs": [
    {
     "data": {
      "text/html": [
       "<div>\n",
       "<style scoped>\n",
       "    .dataframe tbody tr th:only-of-type {\n",
       "        vertical-align: middle;\n",
       "    }\n",
       "\n",
       "    .dataframe tbody tr th {\n",
       "        vertical-align: top;\n",
       "    }\n",
       "\n",
       "    .dataframe thead th {\n",
       "        text-align: right;\n",
       "    }\n",
       "</style>\n",
       "<table border=\"1\" class=\"dataframe\">\n",
       "  <thead>\n",
       "    <tr style=\"text-align: right;\">\n",
       "      <th></th>\n",
       "      <th>roc_auc</th>\n",
       "    </tr>\n",
       "  </thead>\n",
       "  <tbody>\n",
       "    <tr>\n",
       "      <th>XGBClassifier</th>\n",
       "      <td>0.688658</td>\n",
       "    </tr>\n",
       "    <tr>\n",
       "      <th>RandomForestClassifier</th>\n",
       "      <td>0.685601</td>\n",
       "    </tr>\n",
       "    <tr>\n",
       "      <th>LogisticRegression</th>\n",
       "      <td>0.652993</td>\n",
       "    </tr>\n",
       "    <tr>\n",
       "      <th>KNeighborsClassifier</th>\n",
       "      <td>0.636876</td>\n",
       "    </tr>\n",
       "    <tr>\n",
       "      <th>DecisionTreeClassifier</th>\n",
       "      <td>0.605800</td>\n",
       "    </tr>\n",
       "  </tbody>\n",
       "</table>\n",
       "</div>"
      ],
      "text/plain": [
       "                         roc_auc\n",
       "XGBClassifier           0.688658\n",
       "RandomForestClassifier  0.685601\n",
       "LogisticRegression      0.652993\n",
       "KNeighborsClassifier    0.636876\n",
       "DecisionTreeClassifier  0.605800"
      ]
     },
     "execution_count": 42,
     "metadata": {},
     "output_type": "execute_result"
    }
   ],
   "source": [
    "test_model = {\n",
    "    'KNeighborsClassifier' : KNeighborsClassifier(),\n",
    "    'LogisticRegression' : LogisticRegression(random_state=42),\n",
    "    'DecisionTreeClassifier' : DecisionTreeClassifier(random_state=42),\n",
    "    'RandomForestClassifier' : RandomForestClassifier(random_state=42),\n",
    "    'XGBClassifier' : XGBClassifier(use_label_encoder=False,eval_metric='auc', random_state=42)\n",
    "}\n",
    "\n",
    "score = []\n",
    "\n",
    "for i in test_model:\n",
    "    model = Pipeline([\n",
    "        ('transform', transformer),\n",
    "        ('scale', scaler),\n",
    "        ('model', test_model[i])\n",
    "    ])\n",
    "\n",
    "    # Fitting\n",
    "    model.fit(X_train, y_train)\n",
    "\n",
    "    # Predict\n",
    "    y_pred = model.predict(X_test)\n",
    "\n",
    "    # f1 Score\n",
    "    score.append([roc_auc_score(y_test, y_pred)])\n",
    "\n",
    "# Dataframe\n",
    "score_before = pd.DataFrame(score, columns=['roc_auc'], index=test_model.keys())\n",
    "score_before.sort_values('roc_auc', ascending=False)"
   ]
  },
  {
   "cell_type": "markdown",
   "metadata": {},
   "source": [
    "Dari percobaan test di test data ternyata XGBClassifier sedikit lebih tinggi nilainya dari Random Forest Classifier. Karena test di train set nilai kedua model tersebut juga hanya berbeda sedikit. Kali ini kita akan menggunakan XGBClassifier untuk kita lakukan tuning di Hyperparameternya agar mendapatkan hasil yang lebih baik."
   ]
  },
  {
   "cell_type": "markdown",
   "metadata": {},
   "source": [
    "## Hyperparameter Tuning\n",
    "\n",
    "reference : https://www.analyticsvidhya.com/blog/2016/03/complete-guide-parameter-tuning-xgboost-with-codes-python/"
   ]
  },
  {
   "cell_type": "code",
   "execution_count": 43,
   "metadata": {},
   "outputs": [],
   "source": [
    "# Tentukan hyperparameter\n",
    "hyperparam_space_xgb = {\n",
    "    'model__learning_rate' : (np.arange(0.01,0.1,0.01)), \n",
    "    'model__gamma' : (np.arange(0, 11, 1)), #Semakin besar semakin koservatif/simple modelnya\n",
    "    'model__max_depth' : (np.arange(3,11,1)), #Kedalaman pohon\n",
    "    'model__subsample' : (np.arange(0.5,1,0.1)), #Berapa % sample diambil sebelum membentuk cabang (mengurangi overfitting)\n",
    "    'model__n_estimators' : [100, 200, 400], \n",
    "    'model__random_state' : [42],\n",
    "    'model__reg_alpha' : [0, 0.001, 0.005, 0.01, 0.05] #Regularization untuk mengurangi overfitting\n",
    "}"
   ]
  },
  {
   "cell_type": "code",
   "execution_count": 46,
   "metadata": {},
   "outputs": [
    {
     "name": "stdout",
     "output_type": "stream",
     "text": [
      "Best score XGB 0.7490585092361798\n",
      "Best params XGB {'model__subsample': 0.6, 'model__reg_alpha': 0.001, 'model__random_state': 42, 'model__n_estimators': 200, 'model__max_depth': 8, 'model__learning_rate': 0.06999999999999999, 'model__gamma': 9}\n"
     ]
    }
   ],
   "source": [
    "xgb_pipe = Pipeline([\n",
    "    ('transform',transformer),\n",
    "    ('scale', scaler),\n",
    "    ('model',xgb)\n",
    "])\n",
    "\n",
    "rand_xgb= RandomizedSearchCV(\n",
    "    xgb_pipe,\n",
    "    param_distributions=hyperparam_space_xgb,\n",
    "    cv=StratifiedKFold(n_splits=5, shuffle=True, random_state=42),\n",
    "    scoring='roc_auc',\n",
    "    n_jobs=-1\n",
    ")\n",
    "\n",
    "rand_xgb.fit(X_train, y_train)\n",
    "print('Best score XGB', rand_xgb.best_score_)\n",
    "print('Best params XGB', rand_xgb.best_params_)"
   ]
  },
  {
   "cell_type": "markdown",
   "metadata": {},
   "source": [
    "Dikarenakan lamanya waktu tuning menggunakan GridSearchCV (>8 jam), kali ini kita akan menggunakan RandomizedSearchCV untuk mencari hyperparameter terbaik. Jika ingin mendapatkan data yang lebih baik bisa dipertimbangkan untuk menggunakan GridSearchCV dipercobaan selanjutnya.\n",
    "Dari hasil hyperparameter tuning, kita bisa lihat bahwa adanya kenaikan score dari `0.72` menjadi `0.74`."
   ]
  },
  {
   "cell_type": "code",
   "execution_count": 47,
   "metadata": {},
   "outputs": [
    {
     "data": {
      "text/plain": [
       "Pipeline(steps=[('transform',\n",
       "                 ColumnTransformer(remainder='passthrough',\n",
       "                                   transformers=[('onehot',\n",
       "                                                  OneHotEncoder(drop='first'),\n",
       "                                                  ['housing', 'loan']),\n",
       "                                                 ('ordinal',\n",
       "                                                  OrdinalEncoder(mapping=[{'col': 'month',\n",
       "                                                                           'mapping': {'apr': 4,\n",
       "                                                                                       'aug': 8,\n",
       "                                                                                       'dec': 12,\n",
       "                                                                                       'feb': 2,\n",
       "                                                                                       'jan': 1,\n",
       "                                                                                       'jul': 7,\n",
       "                                                                                       'jun': 6,\n",
       "                                                                                       'mar': 3,\n",
       "                                                                                       'may': 5,\n",
       "                                                                                       'nov': 11,\n",
       "                                                                                       'oct': 10,\n",
       "                                                                                       'sep': 9}}]),\n",
       "                                                  ['month']),\n",
       "                                                 ('binary', BinaryEncoder(),\n",
       "                                                  ['job'...\n",
       "                               importance_type=None, interaction_constraints='',\n",
       "                               learning_rate=0.06999999999999999,\n",
       "                               max_delta_step=0, max_depth=8,\n",
       "                               min_child_weight=1, missing=nan,\n",
       "                               monotone_constraints='()', n_estimators=200,\n",
       "                               n_jobs=12, num_parallel_tree=1, predictor='auto',\n",
       "                               random_state=42, reg_alpha=0.001, reg_lambda=1,\n",
       "                               scale_pos_weight=1, subsample=0.6,\n",
       "                               tree_method='exact', use_label_encoder=False,\n",
       "                               validate_parameters=1, verbosity=None))])"
      ]
     },
     "execution_count": 47,
     "metadata": {},
     "output_type": "execute_result"
    }
   ],
   "source": [
    "# Model yang sudah kita lakukan hyperparameter tuning\n",
    "best_model = rand_xgb.best_estimator_\n",
    "best_model.fit(X_train, y_train)"
   ]
  },
  {
   "cell_type": "code",
   "execution_count": 48,
   "metadata": {},
   "outputs": [
    {
     "data": {
      "text/plain": [
       "Pipeline(steps=[('transform',\n",
       "                 ColumnTransformer(remainder='passthrough',\n",
       "                                   transformers=[('onehot',\n",
       "                                                  OneHotEncoder(drop='first'),\n",
       "                                                  ['housing', 'loan']),\n",
       "                                                 ('ordinal',\n",
       "                                                  OrdinalEncoder(mapping=[{'col': 'month',\n",
       "                                                                           'mapping': {'apr': 4,\n",
       "                                                                                       'aug': 8,\n",
       "                                                                                       'dec': 12,\n",
       "                                                                                       'feb': 2,\n",
       "                                                                                       'jan': 1,\n",
       "                                                                                       'jul': 7,\n",
       "                                                                                       'jun': 6,\n",
       "                                                                                       'mar': 3,\n",
       "                                                                                       'may': 5,\n",
       "                                                                                       'nov': 11,\n",
       "                                                                                       'oct': 10,\n",
       "                                                                                       'sep': 9}}]),\n",
       "                                                  ['month']),\n",
       "                                                 ('binary', BinaryEncoder(),\n",
       "                                                  ['job'...\n",
       "                               importance_type=None, interaction_constraints='',\n",
       "                               learning_rate=0.300000012, max_delta_step=0,\n",
       "                               max_depth=6, min_child_weight=1, missing=nan,\n",
       "                               monotone_constraints='()', n_estimators=100,\n",
       "                               n_jobs=12, num_parallel_tree=1, predictor='auto',\n",
       "                               random_state=42, reg_alpha=0, reg_lambda=1,\n",
       "                               scale_pos_weight=1, subsample=1,\n",
       "                               tree_method='exact', use_label_encoder=False,\n",
       "                               validate_parameters=1, verbosity=None))])"
      ]
     },
     "execution_count": 48,
     "metadata": {},
     "output_type": "execute_result"
    }
   ],
   "source": [
    "# Model sebelum dilakukan hyperparameter tuning\n",
    "base_model = Pipeline([\n",
    "        ('transform', transformer),\n",
    "        ('scale', scaler),\n",
    "        ('model', xgb)\n",
    "    ])\n",
    "\n",
    "base_model.fit(X_train, y_train)"
   ]
  },
  {
   "cell_type": "code",
   "execution_count": 49,
   "metadata": {},
   "outputs": [
    {
     "name": "stdout",
     "output_type": "stream",
     "text": [
      "ROC AUC Score Base XGB :  0.7331403477030872\n",
      "ROC AUC Score Tuned XGB :  0.7601827332686393\n"
     ]
    }
   ],
   "source": [
    "y_pred_base = base_model.predict(X_test)\n",
    "y_pred_proba_base = base_model.predict_proba(X_test)\n",
    "y_pred_tuned = best_model.predict(X_test)\n",
    "y_pred_proba_tuned = best_model.predict_proba(X_test)\n",
    "\n",
    "roc_auc_base = roc_auc_score(y_test, y_pred_proba_base[:,1])\n",
    "roc_auc_tuned = roc_auc_score(y_test, y_pred_proba_tuned[:,1])\n",
    "\n",
    "print('ROC AUC Score Base XGB : ', roc_auc_base)\n",
    "print('ROC AUC Score Tuned XGB : ', roc_auc_tuned)"
   ]
  },
  {
   "cell_type": "markdown",
   "metadata": {},
   "source": [
    "Terlihat juga dari nilai ROC AUC nya bahwa model yang sudah di tuning memiliki nilai yang lebih baik. Kita juga akan lihat classification reportnya."
   ]
  },
  {
   "cell_type": "code",
   "execution_count": 50,
   "metadata": {},
   "outputs": [
    {
     "name": "stdout",
     "output_type": "stream",
     "text": [
      "Classification Report Default XGB : \n",
      "               precision    recall  f1-score   support\n",
      "\n",
      "           0       0.68      0.79      0.73       815\n",
      "           1       0.72      0.59      0.65       746\n",
      "\n",
      "    accuracy                           0.69      1561\n",
      "   macro avg       0.70      0.69      0.69      1561\n",
      "weighted avg       0.70      0.69      0.69      1561\n",
      "\n",
      "Classification Report Tuned XGB : \n",
      "               precision    recall  f1-score   support\n",
      "\n",
      "           0       0.69      0.87      0.77       815\n",
      "           1       0.80      0.57      0.67       746\n",
      "\n",
      "    accuracy                           0.73      1561\n",
      "   macro avg       0.74      0.72      0.72      1561\n",
      "weighted avg       0.74      0.73      0.72      1561\n",
      "\n"
     ]
    }
   ],
   "source": [
    "report_base = classification_report(y_test, y_pred_base)\n",
    "report_tuned = classification_report(y_test, y_pred_tuned)\n",
    "\n",
    "print('Classification Report Default XGB : \\n', report_base)\n",
    "print('Classification Report Tuned XGB : \\n', report_tuned)"
   ]
  },
  {
   "cell_type": "markdown",
   "metadata": {},
   "source": [
    "Bisa dilihat juga pada classification reportnya bahwa setelah dituning menjadi sedikit lebih bagus angkanya."
   ]
  },
  {
   "cell_type": "markdown",
   "metadata": {},
   "source": [
    "## ROC Curve \n",
    "ROC Curve akan memberi tahu seberapa baik model kita bisa mengklasifikasikan calon customer yang benar-benar mau membuka deposit atau tidak (True Positive). X-axis merepresentasikan False Positive Rate, dan y-axis merepresentasikan True Positive Rate. Semakin dekat garisnya ke kiri atas, semakin baik kinerja model kita."
   ]
  },
  {
   "cell_type": "code",
   "execution_count": 51,
   "metadata": {},
   "outputs": [],
   "source": [
    "xgb_fpr, xgb_tpr, threshold = roc_curve(y_test, y_pred_proba_tuned[:,1])"
   ]
  },
  {
   "cell_type": "code",
   "execution_count": 57,
   "metadata": {},
   "outputs": [
    {
     "data": {
      "image/png": "[encoded data removed]",
      "text/plain": [
       "<Figure size 720x576 with 1 Axes>"
      ]
     },
     "metadata": {
      "needs_background": "light"
     },
     "output_type": "display_data"
    }
   ],
   "source": [
    "plt.figure(figsize=(10,8))\n",
    "plt.plot(xgb_fpr, xgb_tpr)\n",
    "plt.plot([0,1],[0,1], '#0C8EE0')\n",
    "plt.axis([0,1,0,1])\n",
    "plt.title('ROC Curve XGBClassifier')\n",
    "plt.xlabel('False Positive Rate')\n",
    "plt.ylabel('True Positive Rate')\n",
    "plt.annotate('ROC Score of 76.01%', xy=(0.4, 0.74), xytext=(0.45,0.70), arrowprops=dict(facecolor='#F75118', shrink=0.05))\n",
    "plt.annotate('Minimum ROC Score of 50%', xy=(0.5,0.5), xytext=(0.5,0.4), arrowprops=dict(facecolor='#F75118', shrink=0.05))\n",
    "plt.show()"
   ]
  },
  {
   "cell_type": "markdown",
   "metadata": {},
   "source": [
    "## Feature Importance\n",
    "\n",
    "Kita juga ingin melihat seberapa besar sebuah feature mempengaruhi target (deposit)."
   ]
  },
  {
   "cell_type": "code",
   "execution_count": 53,
   "metadata": {},
   "outputs": [
    {
     "name": "stderr",
     "output_type": "stream",
     "text": [
      "c:\\Users\\Margaretha Elaine\\anaconda3\\lib\\site-packages\\sklearn\\utils\\deprecation.py:87: FutureWarning: Function get_feature_names is deprecated; get_feature_names is deprecated in 1.0 and will be removed in 1.2. Please use get_feature_names_out instead.\n",
      "  warnings.warn(msg, category=FutureWarning)\n"
     ]
    },
    {
     "data": {
      "image/png": "[encoded data removed]",
      "text/plain": [
       "<Figure size 720x576 with 1 Axes>"
      ]
     },
     "metadata": {
      "needs_background": "light"
     },
     "output_type": "display_data"
    }
   ],
   "source": [
    "coef = pd.Series(best_model['model'].feature_importances_, transformer.get_feature_names()).sort_values(ascending = False).head(10)\n",
    "\n",
    "plt.figure(figsize=(10,8))\n",
    "coef.plot(kind='barh', title='Feature Importances')\n",
    "plt.show()"
   ]
  },
  {
   "cell_type": "markdown",
   "metadata": {},
   "source": [
    "Terlihat bahwa feature housing diikuti dengan pdays sangat mempengaruhi seseorang untuk melakukan deposit atau tidak. Dari sini kita juga bisa melihat bahwa ternyata job malah pengaruhnya paling rendah terhadap target. "
   ]
  },
  {
   "cell_type": "markdown",
   "metadata": {},
   "source": [
    "## Confusion Matrix"
   ]
  },
  {
   "cell_type": "code",
   "execution_count": 54,
   "metadata": {},
   "outputs": [
    {
     "data": {
      "image/png": "[encoded data removed]",
      "text/plain": [
       "<Figure size 432x288 with 2 Axes>"
      ]
     },
     "metadata": {
      "needs_background": "light"
     },
     "output_type": "display_data"
    }
   ],
   "source": [
    "cm_pre = confusion_matrix(y_test, y_pred_base)\n",
    "sns.heatmap(cm_pre, annot=True, cmap = 'mako', vmax=1000, vmin=0, fmt='g')\n",
    "plt.title('Confusion Matrix before Tuning')\n",
    "plt.ylabel('Label')\n",
    "plt.xlabel('Predicted')\n",
    "plt.show()"
   ]
  },
  {
   "cell_type": "code",
   "execution_count": 55,
   "metadata": {},
   "outputs": [
    {
     "data": {
      "image/png": "[encoded data removed]",
      "text/plain": [
       "<Figure size 432x288 with 2 Axes>"
      ]
     },
     "metadata": {
      "needs_background": "light"
     },
     "output_type": "display_data"
    }
   ],
   "source": [
    "cm = confusion_matrix(y_test, y_pred_tuned)\n",
    "sns.heatmap(cm, annot=True, cmap = 'mako', vmax=1000, vmin=0, fmt='g')\n",
    "plt.title('Confusion Matrix after Tuning')\n",
    "plt.ylabel('Label')\n",
    "plt.xlabel('Predicted')\n",
    "plt.show()"
   ]
  },
  {
   "cell_type": "markdown",
   "metadata": {},
   "source": [
    "**True Negative (Kiri-Atas):** Jumlah calon customer yang diprediksi `tidak mau` membuka deposit dan `benar`\n",
    "\n",
    "**False Positive (Kanan-Atas):** Jumlah calon customer yang diprediksi `mau` membuka deposit `ternyata tidak`\n",
    "\n",
    "**False Negative (Kiri-Bawah):** Jumlah calon customer yang diprediksi `tidak mau` membuka deposit `ternyata mau`\n",
    "\n",
    "**True Positive (Kanan-Bawah):** Jumlah calon customer yang diprediksi `mau` membuka deposit dan `benar`\n",
    "\n"
   ]
  },
  {
   "cell_type": "markdown",
   "metadata": {},
   "source": [
    "Dari perbandingan kedua matrix, kita bisa melihat bahwa tuning model berhasil menurunkan angka false positive dan meningkatkan true negative. Dengan begitu kita akan dapat lebih efisien mengfilter calon customer yang tidak mau membuka deposit dan lebih berfokus dengan calon customer yang lebih berpeluang membuka deposit."
   ]
  },
  {
   "cell_type": "code",
   "execution_count": 56,
   "metadata": {},
   "outputs": [
    {
     "name": "stdout",
     "output_type": "stream",
     "text": [
      "Classification Report Tuned XGB : \n",
      "               precision    recall  f1-score   support\n",
      "\n",
      "           0       0.69      0.87      0.77       815\n",
      "           1       0.80      0.57      0.67       746\n",
      "\n",
      "    accuracy                           0.73      1561\n",
      "   macro avg       0.74      0.72      0.72      1561\n",
      "weighted avg       0.74      0.73      0.72      1561\n",
      "\n"
     ]
    }
   ],
   "source": [
    "print('Classification Report Tuned XGB : \\n', report_tuned)"
   ]
  },
  {
   "cell_type": "markdown",
   "metadata": {},
   "source": [
    "Berdasarkan hasil classification report dari model yang sudah kita tuning, kita dapat menyimpulkan bahwa model kita mampu untuk memfilter list calon customer sebesar 86% calon customer yang tidak tertarik dan tidak kita approach, dan juga bisa mendapatkan 57% calon customer yang tertarik untuk membuka deposit dari seluruh calon customer yang tertarik. (bedasarkan nilai recall)\n",
    "\n",
    "Model kita memiliki ketepatan prediksi calon customer yang tertarik sebesar 80% (precisionnya), jadi jika model kita memprediksi bahwa seorang customer itu tertarik, maka kemungkinan tebakannya benar itu sebesar 79% kurang lebih. Maka masih akan ada customer yang sebenarnya tidak tertarik tetapi diprediksi sebagai kandidat yang tertarik sekitar 23% dari keseluruhan calon customer yang tidak tertarik (berdasarkan recall).\n",
    "\n"
   ]
  },
  {
   "cell_type": "markdown",
   "metadata": {},
   "source": [
    "## Conclusion and Recommendation"
   ]
  },
  {
   "cell_type": "markdown",
   "metadata": {},
   "source": [
    "**Conclusion**\n",
    "\n",
    "Tujuan utama dari project ini adalah untuk bisa lebih mendalami faktor yang mempengaruhi seorang calon customer untuk membuka deposit, sehingga meningkatkan efektifitas campaign.\n",
    "\n",
    "Berdasarkan dari analisa dasar diatas, target customer yang paling responsif adalah yang memiliki ciri-ciri dibawah:\n",
    "- Pekerjaannya student atau retired\n",
    "- Berusia <30 atau >60\n",
    "- Mempunyai balance diatas 1000, semakin tinggi semakin tinggi juga peluangnya\n",
    "\n",
    "Dengan melakukan analisa lebih lanjut dengan menggunakan XGBClassifier kita bisa memprediksi peluang seorang customer akan membuka deposit atau tidak sebelum dilakukan campaignnya. Kita mendapatkan informasi tambahan, dimana housing loan dan pdays sangat mempengaruhi keputusan customer untuk membuka deposit atau tidak.\n",
    "</br>\n",
    "</br>\n",
    "\n",
    "**Recommendation**\n",
    "- Perusahaan bisa melakukan campaign lebih tinggi pada bulan-bulan berikut : Maret, September, Oktober, dan Desember. Dimana rate untuk pembukaan lebih tinggi\n",
    "- Perusahaan bisa mendapatkan data pribadi lebih banyak dari calon customer sebelum melakukan campaign, namun hanya data-data yang tidak mengganggu kenyamanan customer (contoh: status pernikahan, jumlah tanggungan, kendaraan pribadi, dll). Nantinya bisa dicoba lagi pada project berikutnya agar bisa mendapatkan model yang lebih baik\n",
    "- Untuk memperbaiki model ini, disarankan untuk menggunakan GridSearchCV dalam melakukan Hyperparameter Tuning agar bisa mendapatkan parameter yang benar-benar terbaik (belum bisa pada project kali ini karena time constraint, untuk running >8 jam)\n",
    "- Bisa mencoba dengan menggunakan model lain (contoh: SVM, Naive Bayes)\n"
   ]
  }
 ],
 "metadata": {
  "interpreter": {
   "hash": "6187ecb71c1773254e0c51638a13fd9fdc3e54342dd04fa191cb1110d1ed153d"
  },
  "kernelspec": {
   "display_name": "Python 3.9.7 ('base')",
   "language": "python",
   "name": "python3"
  },
  "language_info": {
   "codemirror_mode": {
    "name": "ipython",
    "version": 3
   },
   "file_extension": ".py",
   "mimetype": "text/x-python",
   "name": "python",
   "nbconvert_exporter": "python",
   "pygments_lexer": "ipython3",
   "version": "3.9.7"
  },
  "orig_nbformat": 4
 },
 "nbformat": 4,
 "nbformat_minor": 2
}
